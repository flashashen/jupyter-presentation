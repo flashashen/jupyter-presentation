{
 "cells": [
  {
   "cell_type": "markdown",
   "metadata": {
    "slideshow": {
     "slide_type": "slide"
    }
   },
   "source": [
    "<div id='top'/>\n",
    "<div align=\"center\">\n",
    "    <h1>The Jupyter Notebook</h1>\n",
    "    <h4>Elevated hacking.  Interactive Documentation.  API explorer.  Classroom teaching tool.  Personal WIKI.  Application platform?</h3>\n",
    "</div>\n",
    "    \n",
    "\n",
    "<div align=\"center\" style=\"padding-top: 60px\">\n",
    "Sarasota Software Engineers User Group<br/>\n",
    "Thursday, February 28, 2019<br/>\n",
    "Brandon Nelson\n",
    "</div>\n",
    "\n"
   ]
  },
  {
   "cell_type": "markdown",
   "metadata": {
    "slideshow": {
     "slide_type": "slide"
    }
   },
   "source": [
    "Sections\n",
    "- [What is it](#what)\n",
    "- [Why is it good](#why)\n",
    "- [Workflows / Use Cases](#use_cases)\n",
    "- [Features](#features)\n",
    "- [Articles](#articles)\n",
    "- <a href=#discuss>Discussion</a>"
   ]
  },
  {
   "cell_type": "markdown",
   "metadata": {
    "slideshow": {
     "slide_type": "skip"
    }
   },
   "source": [
    "<div id='what'/>"
   ]
  },
  {
   "cell_type": "markdown",
   "metadata": {
    "slideshow": {
     "slide_type": "slide"
    }
   },
   "source": [
    "<div id='what'/>\n",
    "<h2>What is it?</h2>\n",
    "<hr>\n",
    "\n",
    ">The Jupyter Notebook is an open-source web application that allows you to create and share documents that contain live code, equations, visualizations and narrative text - https://jupyter.org/\n",
    "\n",
    "- broswer based UI (front end)\n",
    "- execution kernel (back end)\n",
    "- Protocol and message Q that connect the front end to the back end. [Docs](https://jupyter-client.readthedocs.io/en/stable/index.html)\n",
    "\n",
    "Originally IPython Notebook. Now Jupyter Notebook:  **Ju**lia, **Pyt**hon, and **R**\n"
   ]
  },
  {
   "cell_type": "markdown",
   "metadata": {
    "slideshow": {
     "slide_type": "skip"
    }
   },
   "source": [
    "[(top)](#top) "
   ]
  },
  {
   "cell_type": "markdown",
   "metadata": {
    "slideshow": {
     "slide_type": "slide"
    }
   },
   "source": [
    "<div id='why'/>\n",
    "<h2>Why is it good?</h2>\n",
    "<hr>\n",
    "\n",
    "- **Expressive** much more than plain code\n",
    "- **Interactive** not possible with static documentation\n",
    "- **Hackable** / [**Entensible**](https://jupyter-contrib-nbextensions.readthedocs.io/en/latest/nbextensions.html)\n",
    "    - frontend is html and js\n",
    "    - with access to the DOM you can do whatever you want\n",
    "    - project is free and [opensource](https://github.com/jupyter)\n",
    "    - project has built-in extention points and events\n",
    "- **Sharable**\n",
    "    - export to html and pdf\n",
    "    - [github](https://github.com/flashashen/jupyter-presentation/blob/master/jupyter_presentation.ipynb)\n",
    "    - [binder](https://mybinder.org) \n",
    "    - [jupyterhub](https://jupyterhub.readthedocs.io/en/stable/)\n",
    "- **Output is captured** textually within the notebook, so even if you can't run it, you can see what the code does\n",
    "- **Organizing**\n",
    "    - miscellaneous code snippets that don't belong anywhere\n",
    "    - things in different places on filesystem / index / wiki\n",
    "    - commands over time / command history / console session\n",
    "- **Selective execution / re-execution**. You don't always want to run a whole script/file with init, side effects, wasted time, etc\n",
    "- **Iterative**. work in a namespace that stays around until you're done\n",
    "\n"
   ]
  },
  {
   "cell_type": "markdown",
   "metadata": {
    "slideshow": {
     "slide_type": "skip"
    }
   },
   "source": [
    "[(top)](#top) "
   ]
  },
  {
   "cell_type": "markdown",
   "metadata": {
    "collapsed": true,
    "slideshow": {
     "slide_type": "slide"
    }
   },
   "source": [
    "<div id='use_cases'/>\n",
    "<h2>Use Cases</h2>\n",
    "<hr>\n",
    "    "
   ]
  },
  {
   "cell_type": "markdown",
   "metadata": {
    "slideshow": {
     "slide_type": "slide"
    }
   },
   "source": [
    "### Use Case - Exploring API's and Libraries\n",
    "\n",
    "Google makes a nice external hard drive for the brain, but Jupyter is better sometimes b/c:\n",
    "    \n",
    "    - Google likes to omit the imports when you're stealing code\n",
    "    - You're adding value when you\n",
    "        - setup any kind of test data, \n",
    "        - do any kind of environment setup\n",
    "        - etc\n",
    "    - Google can't index our own junk that's scattered around\n",
    "\n",
    "Example: [pandas](pandas.ipynb)"
   ]
  },
  {
   "cell_type": "markdown",
   "metadata": {
    "slideshow": {
     "slide_type": "slide"
    }
   },
   "source": [
    "### Use Case - Hacking / Console workflow\n",
    "\n",
    "advantages of using a notebook:\n",
    "\n",
    "- run all at once or in steps. may not be worth the effort to make it fully scripted \n",
    "- codifies an ordering - you can see all the steps in order\n",
    "- versionable - check it in. It doesn't have to be fully developed/scripted to be tracked. \n",
    "\n",
    "Example: [invoices](../consulting/app/invoice.ipynb)\n"
   ]
  },
  {
   "cell_type": "markdown",
   "metadata": {
    "slideshow": {
     "slide_type": "slide"
    }
   },
   "source": [
    "### Use Case - Personal Wiki\n",
    "\n",
    "Example: [master notebook](../../master.ipynb)"
   ]
  },
  {
   "cell_type": "markdown",
   "metadata": {
    "slideshow": {
     "slide_type": "slide"
    }
   },
   "source": [
    "### Use Case - IDE\n",
    "    - fs (project) view\n",
    "    - syntax highlighting and tab-completion of many languages\n",
    "    - create and edit many file types\n",
    "    - shell commands for build tools\n",
    "    - help\n",
    "    - execution\n",
    "    - timing and profiling\n",
    "    - debuging\n",
    "    - automatic notebook export to plain source\n",
    "    - extensions"
   ]
  },
  {
   "cell_type": "code",
   "execution_count": 11,
   "metadata": {
    "slideshow": {
     "slide_type": "skip"
    }
   },
   "outputs": [
    {
     "data": {
      "text/plain": [
       "4"
      ]
     },
     "execution_count": 11,
     "metadata": {},
     "output_type": "execute_result"
    }
   ],
   "source": [
    "an_array = [1,2,3,4]\n",
    "len(an_array)"
   ]
  },
  {
   "cell_type": "code",
   "execution_count": 12,
   "metadata": {
    "slideshow": {
     "slide_type": "skip"
    }
   },
   "outputs": [],
   "source": [
    "len?"
   ]
  },
  {
   "cell_type": "code",
   "execution_count": 13,
   "metadata": {
    "slideshow": {
     "slide_type": "skip"
    }
   },
   "outputs": [],
   "source": [
    "%%time?"
   ]
  },
  {
   "cell_type": "code",
   "execution_count": 15,
   "metadata": {
    "slideshow": {
     "slide_type": "skip"
    }
   },
   "outputs": [
    {
     "name": "stdout",
     "output_type": "stream",
     "text": [
      "run 1\n",
      "run 2\n",
      "run 3\n",
      "run 4\n",
      " "
     ]
    }
   ],
   "source": [
    "%%prun\n",
    "\n",
    "import time\n",
    "for x in an_array:\n",
    "    print 'run', x\n",
    "    time.sleep(x)"
   ]
  },
  {
   "cell_type": "markdown",
   "metadata": {
    "slideshow": {
     "slide_type": "slide"
    }
   },
   "source": [
    "### Use Case - Web Application Platform??\n",
    "\n",
    "- widgets and js \n",
    "- app mode extension\n",
    "- jupyterhub for multiuser"
   ]
  },
  {
   "cell_type": "markdown",
   "metadata": {
    "slideshow": {
     "slide_type": "slide"
    }
   },
   "source": [
    "### Use Case - Presentation of (live) data / research / code\n",
    "\n",
    "Jupyter's 'wheelhouse'\n",
    "\n",
    "Example: [US Census Data demo of Datadash](https://anaconda.org/jbednar/census/notebook)"
   ]
  },
  {
   "cell_type": "markdown",
   "metadata": {
    "slideshow": {
     "slide_type": "skip"
    }
   },
   "source": [
    "[(top)](#top) "
   ]
  },
  {
   "cell_type": "markdown",
   "metadata": {
    "slideshow": {
     "slide_type": "slide"
    }
   },
   "source": [
    "<div id='features'/>\n",
    "<h2>Interesting Features</h2>\n",
    "<hr>\n",
    "\n",
    "- [Extenstions](https://jupyter-contrib-nbextensions.readthedocs.io/en/latest/nbextensions.html)\n",
    "    - [Table of Contents](https://jupyter-contrib-nbextensions.readthedocs.io/en/latest/nbextensions/toc2/README.html). Adds a clickable table of contents to the notebook.\n",
    "    - [Exercise2](https://jupyter-contrib-nbextensions.readthedocs.io/en/latest/nbextensions/exercise2/readme.html). Turns cells into excercies with hidden solutions and special styling.\n",
    "    - [Python Markdown](https://jupyter-contrib-nbextensions.readthedocs.io/en/latest/nbextensions/python-markdown/readme.html#). Dynamic markdown with {{ your code here }}.\n",
    "- Magics\n",
    "- Engine cluster and parallel processing\n",
    "- Multi-language\n",
    "- Object persistence with `%store` and `%store -r`\n",
    "- jupyter console --existing\n",
    "- [Display and widgets](jupyter-presentation-display.ipynb)\n",
    "    - traitlets\n",
    "- Jupyterhub\n",
    "- jupyterlab?\n",
    "\n"
   ]
  },
  {
   "cell_type": "code",
   "execution_count": 7,
   "metadata": {
    "slideshow": {
     "slide_type": "skip"
    }
   },
   "outputs": [
    {
     "name": "stdout",
     "output_type": "stream",
     "text": [
      "{\n",
      "  \"stdin_port\": 56922, \n",
      "  \"ip\": \"127.0.0.1\", \n",
      "  \"control_port\": 56923, \n",
      "  \"hb_port\": 56924, \n",
      "  \"signature_scheme\": \"hmac-sha256\", \n",
      "  \"key\": \"7a61c0b4-13ea1042e3d7f431bb43a0f2\", \n",
      "  \"kernel_name\": \"\", \n",
      "  \"shell_port\": 56920, \n",
      "  \"transport\": \"tcp\", \n",
      "  \"iopub_port\": 56921\n",
      "}\n",
      "\n",
      "Paste the above JSON into a file, and connect with:\n",
      "    $> jupyter <app> --existing <file>\n",
      "or, if you are local, you can connect with just:\n",
      "    $> jupyter <app> --existing kernel-4bd77554-e5ba-4c69-bd3e-ae83ec33a07e.json\n",
      "or even just:\n",
      "    $> jupyter <app> --existing\n",
      "if this is the most recent Jupyter kernel you have started.\n"
     ]
    }
   ],
   "source": [
    "%connect_info"
   ]
  },
  {
   "cell_type": "markdown",
   "metadata": {
    "slideshow": {
     "slide_type": "skip"
    }
   },
   "source": [
    "[(top)](#top) "
   ]
  },
  {
   "cell_type": "markdown",
   "metadata": {
    "slideshow": {
     "slide_type": "slide"
    }
   },
   "source": [
    "## What's not so good\n",
    "- you really wish you were in a console sometimes\n",
    "- you can lose edits. There is only one 'checkpoint'\n",
    "- notebook can become unreadable by juypter and its not simple to recover\n"
   ]
  },
  {
   "cell_type": "markdown",
   "metadata": {
    "slideshow": {
     "slide_type": "skip"
    }
   },
   "source": [
    "[(top)](#top) "
   ]
  },
  {
   "cell_type": "markdown",
   "metadata": {
    "slideshow": {
     "slide_type": "slide"
    }
   },
   "source": [
    "<div id='articles'/>\n",
    "<h2>Examples / Articles</h2>\n",
    "<hr>\n",
    "\n",
    "- [Jupyter gallery](https://github.com/jupyter/jupyter/wiki/A-gallery-of-interesting-Jupyter-Notebooks)\n",
    "- [Anaconda gallery](https://anaconda.org/gallery)\n",
    "- [Create and deploy an Azure Machine Learning web service](https://notebooks.azure.com/Microsoft/projects/samples/html/Create%20and%20Deploy%20an%20Azure%20ML%20Web%20Service.ipynb#Consuming-the-web-service)\n",
    "- [The Need for Openness in Data Journalism](https://nbviewer.jupyter.org/github/brianckeegan/Bechdel/blob/master/Bechdel_test.ipynb)\n",
    "- [St. Louis County Segregation Analysis](https://nbviewer.jupyter.org/github/buzzfeednews/2014-08-st-louis-county-segregation/blob/master/notebooks/segregation-analysis.ipynb)\n",
    "- [A Crash Course in Python for Scientists](https://nbviewer.jupyter.org/gist/rpmuller/5920182)\n",
    "- [How IPython Notebook and Github have changed the way I teach Python](https://peak5390.wordpress.com/2013/09/22/how-ipython-notebook-and-github-have-changed-the-way-i-teach-python/)\n"
   ]
  },
  {
   "cell_type": "markdown",
   "metadata": {
    "slideshow": {
     "slide_type": "slide"
    }
   },
   "source": [
    "<div id='discuss'/>\n",
    "<h2>Discussion</h2>\n",
    "<hr>\n",
    "\n",
    "Does this look useful to anyone? What about around the lab?\n",
    "\n",
    "I haven't found any examples aimed at young folks that I feel really got it right. Here is one [example](https://nbviewer.jupyter.org/github/mikkokotila/jupyter4kids/blob/master/notebooks/numerical-computing-is-fun-2.ipynb) that makes a nice attempt. It's uses the notebook features in a straightforward way but I feel leaves something to be desired.\n",
    "\n",
    "Advanced notebook plugin could make notebooks more like custom built educational web apps, or for other domains.\n"
   ]
  },
  {
   "cell_type": "markdown",
   "metadata": {
    "slideshow": {
     "slide_type": "fragment"
    }
   },
   "source": [
    "## TODO\n",
    "- api explore example\n",
    "- improve dynamic widget. perhaps merge with three.js example\n",
    "- reveal.js demo\n",
    "- docker setup?\n",
    "- raspberri pi demo? check mini"
   ]
  },
  {
   "cell_type": "markdown",
   "metadata": {
    "slideshow": {
     "slide_type": "skip"
    }
   },
   "source": [
    "\n",
    "### Notebook runtime environment\n",
    "<div id='runtime_setup'></div>\n",
    "\n",
    "We can maange the notebook run time from the notebook itself\n",
    "\n",
    "** This could be run from a raspberry pi?!"
   ]
  },
  {
   "cell_type": "code",
   "execution_count": 2,
   "metadata": {
    "slideshow": {
     "slide_type": "skip"
    }
   },
   "outputs": [
    {
     "name": "stdout",
     "output_type": "stream",
     "text": [
      "Cash Load Research Session-Copy1.py  config.ipynb\r\n",
      "Cash Load Research Session.ipynb     dsh_workshop.ipynb\r\n",
      "Cash Load Research Session.py\t     google_nlp.ipynb\r\n",
      "Demo_pandas.ipynb\t\t     index.ipynb\r\n",
      "Demo_pandas.py\t\t\t     jake\r\n",
      "Jupyter Notebooks.ipynb\t\t     jupyter-presentation-display.ipynb\r\n",
      "RDG Sunset .py\t\t\t     jupyter-presentation-multi-lang.ipynb\r\n",
      "RDG_Sunset.ipynb\t\t     jupyter.ipynb\r\n",
      "RDG_Sunset.py\t\t\t     mannatee.jpg\r\n",
      "Trip to Jupyter.ipynb\t\t     provision\r\n",
      "Untitled1.py\t\t\t     test.csv\r\n",
      "Untitled1.txt\t\t\t     widgets.ipynb\r\n"
     ]
    }
   ],
   "source": [
    "! ls"
   ]
  },
  {
   "cell_type": "code",
   "execution_count": null,
   "metadata": {
    "collapsed": true,
    "slideshow": {
     "slide_type": "skip"
    }
   },
   "outputs": [],
   "source": [
    "dockerfile_contents = \"\""
   ]
  },
  {
   "cell_type": "code",
   "execution_count": 18,
   "metadata": {
    "slideshow": {
     "slide_type": "skip"
    }
   },
   "outputs": [
    {
     "name": "stdout",
     "output_type": "stream",
     "text": [
      "aec9f24a4da444c56a4fb325ac917d89bfaa1118d0e690e2ddfc1a001cdbd328\r\n"
     ]
    }
   ],
   "source": [
    " ! docker run -d -p 8889:8888 -v \"$(pwd):/notebooks\" koduki/jupyter-ruby"
   ]
  },
  {
   "cell_type": "code",
   "execution_count": 19,
   "metadata": {
    "slideshow": {
     "slide_type": "skip"
    }
   },
   "outputs": [],
   "source": [
    "test = ! docker ps"
   ]
  },
  {
   "cell_type": "code",
   "execution_count": 1,
   "metadata": {
    "slideshow": {
     "slide_type": "skip"
    }
   },
   "outputs": [
    {
     "name": "stdout",
     "output_type": "stream",
     "text": [
      "/Users/panelson/workspace/notebooks/sse_meetup\r\n"
     ]
    }
   ],
   "source": [
    "!pwd"
   ]
  },
  {
   "cell_type": "code",
   "execution_count": 1,
   "metadata": {
    "slideshow": {
     "slide_type": "skip"
    }
   },
   "outputs": [
    {
     "name": "stdout",
     "output_type": "stream",
     "text": [
      "\u001b[33mDEPRECATION: Python 2.7 will reach the end of its life on January 1st, 2020. Please upgrade your Python as Python 2.7 won't be maintained after that date. A future version of pip will drop support for Python 2.7.\u001b[0m\n",
      "Collecting pythreejs\n",
      "\u001b[?25l  Downloading https://files.pythonhosted.org/packages/b6/0e/f6dbe6e1a9a489cca1bcada3ee0ae5fd49cfb123c6829cc9c1c6583a3fa8/pythreejs-2.0.2-py2.py3-none-any.whl (4.2MB)\n",
      "\u001b[K    100% |████████████████████████████████| 4.2MB 3.1MB/s eta 0:00:01\n",
      "\u001b[?25hRequirement already satisfied: ipywidgets>=7.2.1 in /Users/panelson/.venv/py27/lib/python2.7/site-packages (from pythreejs) (7.4.2)\n",
      "Collecting ipydatawidgets>=1.1.1 (from pythreejs)\n",
      "\u001b[?25l  Downloading https://files.pythonhosted.org/packages/2c/9e/16c3cbc63862b36c0b18aa0e1d1dd6a65496d4f8a91a57a728d19bdb74b1/ipydatawidgets-4.0.0-py2.py3-none-any.whl (250kB)\n",
      "\u001b[K    100% |████████████████████████████████| 256kB 9.0MB/s eta 0:00:01\n",
      "\u001b[?25hRequirement already satisfied: numpy in /Users/panelson/.venv/py27/lib/python2.7/site-packages (from pythreejs) (1.16.1)\n",
      "Requirement already satisfied: ipykernel>=4.5.1 in /Users/panelson/.venv/py27/lib/python2.7/site-packages (from ipywidgets>=7.2.1->pythreejs) (4.10.0)\n",
      "Requirement already satisfied: ipython<6.0.0,>=4.0.0; python_version < \"3.3\" in /Users/panelson/.venv/py27/lib/python2.7/site-packages (from ipywidgets>=7.2.1->pythreejs) (5.8.0)\n",
      "Requirement already satisfied: widgetsnbextension~=3.4.0 in /Users/panelson/.venv/py27/lib/python2.7/site-packages (from ipywidgets>=7.2.1->pythreejs) (3.4.2)\n",
      "Requirement already satisfied: nbformat>=4.2.0 in /Users/panelson/.venv/py27/lib/python2.7/site-packages (from ipywidgets>=7.2.1->pythreejs) (4.4.0)\n",
      "Requirement already satisfied: traitlets>=4.3.1 in /Users/panelson/.venv/py27/lib/python2.7/site-packages (from ipywidgets>=7.2.1->pythreejs) (4.3.2)\n",
      "Requirement already satisfied: six in /Users/panelson/.venv/py27/lib/python2.7/site-packages (from ipydatawidgets>=1.1.1->pythreejs) (1.12.0)\n",
      "Collecting traittypes>=0.2.0 (from ipydatawidgets>=1.1.1->pythreejs)\n",
      "  Downloading https://files.pythonhosted.org/packages/9c/d1/8d5bd662703cc1764d986f6908a608777305946fa634d34c470cd4a1e729/traittypes-0.2.1-py2.py3-none-any.whl\n",
      "Requirement already satisfied: jupyter-client in /Users/panelson/.venv/py27/lib/python2.7/site-packages (from ipykernel>=4.5.1->ipywidgets>=7.2.1->pythreejs) (5.2.4)\n",
      "Requirement already satisfied: tornado>=4.0 in /Users/panelson/.venv/py27/lib/python2.7/site-packages (from ipykernel>=4.5.1->ipywidgets>=7.2.1->pythreejs) (5.1.1)\n",
      "Requirement already satisfied: simplegeneric>0.8 in /Users/panelson/.venv/py27/lib/python2.7/site-packages (from ipython<6.0.0,>=4.0.0; python_version < \"3.3\"->ipywidgets>=7.2.1->pythreejs) (0.8.1)\n",
      "Requirement already satisfied: decorator in /Users/panelson/.venv/py27/lib/python2.7/site-packages (from ipython<6.0.0,>=4.0.0; python_version < \"3.3\"->ipywidgets>=7.2.1->pythreejs) (4.3.2)\n",
      "Requirement already satisfied: pygments in /Users/panelson/.venv/py27/lib/python2.7/site-packages (from ipython<6.0.0,>=4.0.0; python_version < \"3.3\"->ipywidgets>=7.2.1->pythreejs) (2.3.1)\n",
      "Requirement already satisfied: backports.shutil-get-terminal-size; python_version == \"2.7\" in /Users/panelson/.venv/py27/lib/python2.7/site-packages (from ipython<6.0.0,>=4.0.0; python_version < \"3.3\"->ipywidgets>=7.2.1->pythreejs) (1.0.0)\n",
      "Requirement already satisfied: pexpect; sys_platform != \"win32\" in /Users/panelson/.venv/py27/lib/python2.7/site-packages (from ipython<6.0.0,>=4.0.0; python_version < \"3.3\"->ipywidgets>=7.2.1->pythreejs) (4.6.0)\n",
      "Requirement already satisfied: prompt-toolkit<2.0.0,>=1.0.4 in /Users/panelson/.venv/py27/lib/python2.7/site-packages (from ipython<6.0.0,>=4.0.0; python_version < \"3.3\"->ipywidgets>=7.2.1->pythreejs) (1.0.15)\n",
      "Requirement already satisfied: setuptools>=18.5 in /Users/panelson/.venv/py27/lib/python2.7/site-packages (from ipython<6.0.0,>=4.0.0; python_version < \"3.3\"->ipywidgets>=7.2.1->pythreejs) (40.8.0)\n",
      "Requirement already satisfied: pickleshare in /Users/panelson/.venv/py27/lib/python2.7/site-packages (from ipython<6.0.0,>=4.0.0; python_version < \"3.3\"->ipywidgets>=7.2.1->pythreejs) (0.7.5)\n",
      "Requirement already satisfied: appnope; sys_platform == \"darwin\" in /Users/panelson/.venv/py27/lib/python2.7/site-packages (from ipython<6.0.0,>=4.0.0; python_version < \"3.3\"->ipywidgets>=7.2.1->pythreejs) (0.1.0)\n",
      "Requirement already satisfied: pathlib2; python_version == \"2.7\" or python_version == \"3.3\" in /Users/panelson/.venv/py27/lib/python2.7/site-packages (from ipython<6.0.0,>=4.0.0; python_version < \"3.3\"->ipywidgets>=7.2.1->pythreejs) (2.3.3)\n",
      "Requirement already satisfied: notebook>=4.4.1 in /Users/panelson/.venv/py27/lib/python2.7/site-packages (from widgetsnbextension~=3.4.0->ipywidgets>=7.2.1->pythreejs) (5.7.4)\n",
      "Requirement already satisfied: jupyter-core in /Users/panelson/.venv/py27/lib/python2.7/site-packages (from nbformat>=4.2.0->ipywidgets>=7.2.1->pythreejs) (4.4.0)\n",
      "Requirement already satisfied: jsonschema!=2.5.0,>=2.4 in /Users/panelson/.venv/py27/lib/python2.7/site-packages (from nbformat>=4.2.0->ipywidgets>=7.2.1->pythreejs) (2.6.0)\n",
      "Requirement already satisfied: ipython-genutils in /Users/panelson/.venv/py27/lib/python2.7/site-packages (from nbformat>=4.2.0->ipywidgets>=7.2.1->pythreejs) (0.2.0)\n",
      "Requirement already satisfied: enum34; python_version == \"2.7\" in /Users/panelson/.venv/py27/lib/python2.7/site-packages (from traitlets>=4.3.1->ipywidgets>=7.2.1->pythreejs) (1.1.6)\n",
      "Requirement already satisfied: pyzmq>=13 in /Users/panelson/.venv/py27/lib/python2.7/site-packages (from jupyter-client->ipykernel>=4.5.1->ipywidgets>=7.2.1->pythreejs) (17.1.2)\n",
      "Requirement already satisfied: python-dateutil>=2.1 in /Users/panelson/.venv/py27/lib/python2.7/site-packages (from jupyter-client->ipykernel>=4.5.1->ipywidgets>=7.2.1->pythreejs) (2.8.0)\n",
      "Requirement already satisfied: futures in /Users/panelson/.venv/py27/lib/python2.7/site-packages (from tornado>=4.0->ipykernel>=4.5.1->ipywidgets>=7.2.1->pythreejs) (3.2.0)\n",
      "Requirement already satisfied: singledispatch in /Users/panelson/.venv/py27/lib/python2.7/site-packages (from tornado>=4.0->ipykernel>=4.5.1->ipywidgets>=7.2.1->pythreejs) (3.4.0.3)\n",
      "Requirement already satisfied: backports-abc>=0.4 in /Users/panelson/.venv/py27/lib/python2.7/site-packages (from tornado>=4.0->ipykernel>=4.5.1->ipywidgets>=7.2.1->pythreejs) (0.5)\n",
      "Requirement already satisfied: ptyprocess>=0.5 in /Users/panelson/.venv/py27/lib/python2.7/site-packages (from pexpect; sys_platform != \"win32\"->ipython<6.0.0,>=4.0.0; python_version < \"3.3\"->ipywidgets>=7.2.1->pythreejs) (0.6.0)\n",
      "Requirement already satisfied: wcwidth in /Users/panelson/.venv/py27/lib/python2.7/site-packages (from prompt-toolkit<2.0.0,>=1.0.4->ipython<6.0.0,>=4.0.0; python_version < \"3.3\"->ipywidgets>=7.2.1->pythreejs) (0.1.7)\n",
      "Requirement already satisfied: scandir; python_version < \"3.5\" in /Users/panelson/.venv/py27/lib/python2.7/site-packages (from pathlib2; python_version == \"2.7\" or python_version == \"3.3\"->ipython<6.0.0,>=4.0.0; python_version < \"3.3\"->ipywidgets>=7.2.1->pythreejs) (1.9.0)\n",
      "Requirement already satisfied: nbconvert in /Users/panelson/.venv/py27/lib/python2.7/site-packages (from notebook>=4.4.1->widgetsnbextension~=3.4.0->ipywidgets>=7.2.1->pythreejs) (5.4.0)\n",
      "Requirement already satisfied: terminado>=0.8.1 in /Users/panelson/.venv/py27/lib/python2.7/site-packages (from notebook>=4.4.1->widgetsnbextension~=3.4.0->ipywidgets>=7.2.1->pythreejs) (0.8.1)\n",
      "Requirement already satisfied: jinja2 in /Users/panelson/.venv/py27/lib/python2.7/site-packages (from notebook>=4.4.1->widgetsnbextension~=3.4.0->ipywidgets>=7.2.1->pythreejs) (2.10)\n",
      "Requirement already satisfied: Send2Trash in /Users/panelson/.venv/py27/lib/python2.7/site-packages (from notebook>=4.4.1->widgetsnbextension~=3.4.0->ipywidgets>=7.2.1->pythreejs) (1.5.0)\n",
      "Requirement already satisfied: ipaddress; python_version == \"2.7\" in /Users/panelson/.venv/py27/lib/python2.7/site-packages (from notebook>=4.4.1->widgetsnbextension~=3.4.0->ipywidgets>=7.2.1->pythreejs) (1.0.22)\n",
      "Requirement already satisfied: prometheus-client in /Users/panelson/.venv/py27/lib/python2.7/site-packages (from notebook>=4.4.1->widgetsnbextension~=3.4.0->ipywidgets>=7.2.1->pythreejs) (0.5.0)\n",
      "Requirement already satisfied: functools32; python_version == \"2.7\" in /Users/panelson/.venv/py27/lib/python2.7/site-packages (from jsonschema!=2.5.0,>=2.4->nbformat>=4.2.0->ipywidgets>=7.2.1->pythreejs) (3.2.3.post2)\n",
      "Requirement already satisfied: entrypoints>=0.2.2 in /Users/panelson/.venv/py27/lib/python2.7/site-packages (from nbconvert->notebook>=4.4.1->widgetsnbextension~=3.4.0->ipywidgets>=7.2.1->pythreejs) (0.3)\n",
      "Requirement already satisfied: bleach in /Users/panelson/.venv/py27/lib/python2.7/site-packages (from nbconvert->notebook>=4.4.1->widgetsnbextension~=3.4.0->ipywidgets>=7.2.1->pythreejs) (3.1.0)\n",
      "Requirement already satisfied: pandocfilters>=1.4.1 in /Users/panelson/.venv/py27/lib/python2.7/site-packages (from nbconvert->notebook>=4.4.1->widgetsnbextension~=3.4.0->ipywidgets>=7.2.1->pythreejs) (1.4.2)\n",
      "Requirement already satisfied: defusedxml in /Users/panelson/.venv/py27/lib/python2.7/site-packages (from nbconvert->notebook>=4.4.1->widgetsnbextension~=3.4.0->ipywidgets>=7.2.1->pythreejs) (0.5.0)\n",
      "Requirement already satisfied: testpath in /Users/panelson/.venv/py27/lib/python2.7/site-packages (from nbconvert->notebook>=4.4.1->widgetsnbextension~=3.4.0->ipywidgets>=7.2.1->pythreejs) (0.4.2)\n",
      "Requirement already satisfied: mistune>=0.8.1 in /Users/panelson/.venv/py27/lib/python2.7/site-packages (from nbconvert->notebook>=4.4.1->widgetsnbextension~=3.4.0->ipywidgets>=7.2.1->pythreejs) (0.8.4)\n"
     ]
    },
    {
     "name": "stdout",
     "output_type": "stream",
     "text": [
      "Requirement already satisfied: MarkupSafe>=0.23 in /Users/panelson/.venv/py27/lib/python2.7/site-packages (from jinja2->notebook>=4.4.1->widgetsnbextension~=3.4.0->ipywidgets>=7.2.1->pythreejs) (1.1.0)\n",
      "Requirement already satisfied: configparser>=3.5; python_version == \"2.7\" in /Users/panelson/.venv/py27/lib/python2.7/site-packages (from entrypoints>=0.2.2->nbconvert->notebook>=4.4.1->widgetsnbextension~=3.4.0->ipywidgets>=7.2.1->pythreejs) (3.7.1)\n",
      "Requirement already satisfied: webencodings in /Users/panelson/.venv/py27/lib/python2.7/site-packages (from bleach->nbconvert->notebook>=4.4.1->widgetsnbextension~=3.4.0->ipywidgets>=7.2.1->pythreejs) (0.5.1)\n",
      "Installing collected packages: traittypes, ipydatawidgets, pythreejs\n",
      "Successfully installed ipydatawidgets-4.0.0 pythreejs-2.0.2 traittypes-0.2.1\n",
      "\u001b[33mYou are using pip version 19.0.1, however version 19.0.3 is available.\n",
      "You should consider upgrading via the 'pip install --upgrade pip' command.\u001b[0m\n"
     ]
    }
   ],
   "source": [
    "! pip install pythreejs"
   ]
  },
  {
   "cell_type": "code",
   "execution_count": 2,
   "metadata": {
    "slideshow": {
     "slide_type": "skip"
    }
   },
   "outputs": [
    {
     "name": "stdout",
     "output_type": "stream",
     "text": [
      "Installing /Users/panelson/.venv/py27/lib/python2.7/site-packages/pythreejs/static -> jupyter-threejs\r\n",
      "- Validating: \u001b[32mOK\u001b[0m\r\n",
      "\r\n",
      "    To initialize this nbextension in the browser every time the notebook (or other app) loads:\r\n",
      "    \r\n",
      "          jupyter nbextension enable pythreejs --py --sys-prefix\r\n",
      "    \r\n"
     ]
    }
   ],
   "source": [
    "! jupyter nbextension install --py --symlink --sys-prefix pythreejs"
   ]
  },
  {
   "cell_type": "code",
   "execution_count": 3,
   "metadata": {
    "scrolled": true,
    "slideshow": {
     "slide_type": "skip"
    }
   },
   "outputs": [
    {
     "name": "stdout",
     "output_type": "stream",
     "text": [
      "Enabling notebook extension jupyter-threejs/extension...\r\n",
      "      - Validating: \u001b[32mOK\u001b[0m\r\n"
     ]
    }
   ],
   "source": [
    "! jupyter nbextension enable --py --sys-prefix pythreejs"
   ]
  },
  {
   "cell_type": "code",
   "execution_count": 1,
   "metadata": {
    "slideshow": {
     "slide_type": "skip"
    }
   },
   "outputs": [
    {
     "name": "stdout",
     "output_type": "stream",
     "text": [
      "\u001b[33mDEPRECATION: Python 2.7 will reach the end of its life on January 1st, 2020. Please upgrade your Python as Python 2.7 won't be maintained after that date. A future version of pip will drop support for Python 2.7.\u001b[0m\n",
      "Collecting matplotlib\n",
      "\u001b[?25l  Downloading https://files.pythonhosted.org/packages/23/16/8f83901b3094199078acd965657b9ee22604f33795fcb32a704566dd4cdf/matplotlib-2.2.3-cp27-cp27m-macosx_10_6_intel.macosx_10_9_intel.macosx_10_9_x86_64.macosx_10_10_intel.macosx_10_10_x86_64.whl (13.8MB)\n",
      "\u001b[K    100% |████████████████████████████████| 13.8MB 1.1MB/s eta 0:00:01\n",
      "\u001b[?25hRequirement already satisfied: python-dateutil>=2.1 in /Users/panelson/.venv/py27/lib/python2.7/site-packages (from matplotlib) (2.8.0)\n",
      "Collecting cycler>=0.10 (from matplotlib)\n",
      "  Downloading https://files.pythonhosted.org/packages/f7/d2/e07d3ebb2bd7af696440ce7e754c59dd546ffe1bbe732c8ab68b9c834e61/cycler-0.10.0-py2.py3-none-any.whl\n",
      "Requirement already satisfied: subprocess32 in /Users/panelson/.venv/py27/lib/python2.7/site-packages (from matplotlib) (3.5.3)\n",
      "Requirement already satisfied: pytz in /Users/panelson/.venv/py27/lib/python2.7/site-packages (from matplotlib) (2018.9)\n",
      "Requirement already satisfied: six>=1.10 in /Users/panelson/.venv/py27/lib/python2.7/site-packages (from matplotlib) (1.12.0)\n",
      "Collecting backports.functools-lru-cache (from matplotlib)\n",
      "  Downloading https://files.pythonhosted.org/packages/03/8e/2424c0e65c4a066e28f539364deee49b6451f8fcd4f718fefa50cc3dcf48/backports.functools_lru_cache-1.5-py2.py3-none-any.whl\n",
      "Collecting pyparsing!=2.0.4,!=2.1.2,!=2.1.6,>=2.0.1 (from matplotlib)\n",
      "\u001b[?25l  Downloading https://files.pythonhosted.org/packages/de/0a/001be530836743d8be6c2d85069f46fecf84ac6c18c7f5fb8125ee11d854/pyparsing-2.3.1-py2.py3-none-any.whl (61kB)\n",
      "\u001b[K    100% |████████████████████████████████| 71kB 6.6MB/s ta 0:00:01\n",
      "\u001b[?25hRequirement already satisfied: numpy>=1.7.1 in /Users/panelson/.venv/py27/lib/python2.7/site-packages (from matplotlib) (1.16.1)\n",
      "Collecting kiwisolver>=1.0.1 (from matplotlib)\n",
      "\u001b[?25l  Downloading https://files.pythonhosted.org/packages/79/d8/94633718f3f77dcb638687a77ba199325a1cb158d2d4b00c9dc17f2b5c72/kiwisolver-1.0.1-cp27-cp27m-macosx_10_6_intel.macosx_10_9_intel.macosx_10_9_x86_64.macosx_10_10_intel.macosx_10_10_x86_64.whl (110kB)\n",
      "\u001b[K    100% |████████████████████████████████| 112kB 4.7MB/s ta 0:00:01\n",
      "\u001b[?25hRequirement already satisfied: setuptools in /Users/panelson/.venv/py27/lib/python2.7/site-packages (from kiwisolver>=1.0.1->matplotlib) (40.8.0)\n",
      "Installing collected packages: cycler, backports.functools-lru-cache, pyparsing, kiwisolver, matplotlib\n",
      "Successfully installed backports.functools-lru-cache-1.5 cycler-0.10.0 kiwisolver-1.0.1 matplotlib-2.2.3 pyparsing-2.3.1\n",
      "\u001b[33mYou are using pip version 19.0.1, however version 19.0.3 is available.\n",
      "You should consider upgrading via the 'pip install --upgrade pip' command.\u001b[0m\n"
     ]
    }
   ],
   "source": [
    "! pip install matplotlib"
   ]
  },
  {
   "cell_type": "code",
   "execution_count": 2,
   "metadata": {
    "slideshow": {
     "slide_type": "skip"
    }
   },
   "outputs": [
    {
     "name": "stdout",
     "output_type": "stream",
     "text": [
      "\u001b[33mDEPRECATION: Python 2.7 will reach the end of its life on January 1st, 2020. Please upgrade your Python as Python 2.7 won't be maintained after that date. A future version of pip will drop support for Python 2.7.\u001b[0m\n",
      "Collecting scikit-image\n",
      "\u001b[?25l  Downloading https://files.pythonhosted.org/packages/99/8e/2435609eadf6c7185adc26c2aac0a4c37fbe6203e119e94ec895ee6548ba/scikit_image-0.14.2-cp27-cp27m-macosx_10_6_intel.macosx_10_9_intel.macosx_10_9_x86_64.macosx_10_10_intel.macosx_10_10_x86_64.whl (29.2MB)\n",
      "\u001b[K    100% |████████████████████████████████| 29.2MB 429kB/s ta 0:00:011\n",
      "\u001b[?25hCollecting cloudpickle>=0.2.1 (from scikit-image)\n",
      "  Downloading https://files.pythonhosted.org/packages/47/d5/efa7cacef5d3bdcd71d7053a698fb9b64a20fff5cb3c592efefa53ea5578/cloudpickle-0.8.0-py2.py3-none-any.whl\n",
      "Collecting networkx>=1.8 (from scikit-image)\n",
      "\u001b[?25l  Downloading https://files.pythonhosted.org/packages/f3/f4/7e20ef40b118478191cec0b58c3192f822cace858c19505c7670961b76b2/networkx-2.2.zip (1.7MB)\n",
      "\u001b[K    100% |████████████████████████████████| 1.7MB 4.4MB/s ta 0:00:011\n",
      "\u001b[?25hCollecting pillow>=4.3.0 (from scikit-image)\n",
      "\u001b[?25l  Downloading https://files.pythonhosted.org/packages/7e/bb/d502ae951099ce9a5a20dec21e577f304b7706321f83205c5215ebc028cd/Pillow-5.4.1-cp27-cp27m-macosx_10_6_intel.macosx_10_9_intel.macosx_10_9_x86_64.macosx_10_10_intel.macosx_10_10_x86_64.whl (3.7MB)\n",
      "\u001b[K    100% |████████████████████████████████| 3.7MB 1.9MB/s ta 0:00:011\n",
      "\u001b[?25hCollecting dask[array]>=1.0.0 (from scikit-image)\n",
      "\u001b[?25l  Downloading https://files.pythonhosted.org/packages/7c/2b/cf9e5477bec3bd3b4687719876ea38e9d8c9dc9d3526365c74e836e6a650/dask-1.1.1-py2.py3-none-any.whl (701kB)\n",
      "\u001b[K    100% |████████████████████████████████| 706kB 6.4MB/s eta 0:00:01\n",
      "\u001b[?25hRequirement already satisfied: matplotlib>=2.0.0 in /Users/panelson/.venv/py27/lib/python2.7/site-packages (from scikit-image) (2.2.3)\n",
      "Collecting PyWavelets>=0.4.0 (from scikit-image)\n",
      "\u001b[?25l  Downloading https://files.pythonhosted.org/packages/32/e6/29f7cd6ba3d3af33bdd0dd7a294df218645b68471a6412448f0766bc5273/PyWavelets-1.0.1-cp27-cp27m-macosx_10_6_intel.macosx_10_9_intel.macosx_10_9_x86_64.macosx_10_10_intel.macosx_10_10_x86_64.whl (5.0MB)\n",
      "\u001b[K    100% |████████████████████████████████| 5.0MB 1.9MB/s ta 0:00:011\n",
      "\u001b[?25hRequirement already satisfied: six>=1.10.0 in /Users/panelson/.venv/py27/lib/python2.7/site-packages (from scikit-image) (1.12.0)\n",
      "Collecting scipy>=0.17.0 (from scikit-image)\n",
      "\u001b[?25l  Downloading https://files.pythonhosted.org/packages/85/70/9f8f1e9ed9fd33b96bb27fb080171fb571f7d33fecbd857e9f504e6dcc9a/scipy-1.2.1-cp27-cp27m-macosx_10_6_intel.macosx_10_9_intel.macosx_10_9_x86_64.macosx_10_10_intel.macosx_10_10_x86_64.whl (27.4MB)\n",
      "\u001b[K    100% |████████████████████████████████| 27.4MB 606kB/s ta 0:00:011\n",
      "\u001b[?25hRequirement already satisfied: decorator>=4.3.0 in /Users/panelson/.venv/py27/lib/python2.7/site-packages (from networkx>=1.8->scikit-image) (4.3.2)\n",
      "Requirement already satisfied: numpy>=1.11.0; extra == \"array\" in /Users/panelson/.venv/py27/lib/python2.7/site-packages (from dask[array]>=1.0.0->scikit-image) (1.16.1)\n",
      "Collecting toolz>=0.7.3; extra == \"array\" (from dask[array]>=1.0.0->scikit-image)\n",
      "\u001b[?25l  Downloading https://files.pythonhosted.org/packages/14/d0/a73c15bbeda3d2e7b381a36afb0d9cd770a9f4adc5d1532691013ba881db/toolz-0.9.0.tar.gz (45kB)\n",
      "\u001b[K    100% |████████████████████████████████| 51kB 2.8MB/s ta 0:00:01\n",
      "\u001b[?25hRequirement already satisfied: python-dateutil>=2.1 in /Users/panelson/.venv/py27/lib/python2.7/site-packages (from matplotlib>=2.0.0->scikit-image) (2.8.0)\n",
      "Requirement already satisfied: cycler>=0.10 in /Users/panelson/.venv/py27/lib/python2.7/site-packages (from matplotlib>=2.0.0->scikit-image) (0.10.0)\n",
      "Requirement already satisfied: subprocess32 in /Users/panelson/.venv/py27/lib/python2.7/site-packages (from matplotlib>=2.0.0->scikit-image) (3.5.3)\n",
      "Requirement already satisfied: pytz in /Users/panelson/.venv/py27/lib/python2.7/site-packages (from matplotlib>=2.0.0->scikit-image) (2018.9)\n",
      "Requirement already satisfied: backports.functools-lru-cache in /Users/panelson/.venv/py27/lib/python2.7/site-packages (from matplotlib>=2.0.0->scikit-image) (1.5)\n",
      "Requirement already satisfied: pyparsing!=2.0.4,!=2.1.2,!=2.1.6,>=2.0.1 in /Users/panelson/.venv/py27/lib/python2.7/site-packages (from matplotlib>=2.0.0->scikit-image) (2.3.1)\n",
      "Requirement already satisfied: kiwisolver>=1.0.1 in /Users/panelson/.venv/py27/lib/python2.7/site-packages (from matplotlib>=2.0.0->scikit-image) (1.0.1)\n",
      "Requirement already satisfied: setuptools in /Users/panelson/.venv/py27/lib/python2.7/site-packages (from kiwisolver>=1.0.1->matplotlib>=2.0.0->scikit-image) (40.8.0)\n",
      "Building wheels for collected packages: networkx, toolz\n",
      "  Building wheel for networkx (setup.py) ... \u001b[?25ldone\n",
      "\u001b[?25h  Stored in directory: /Users/panelson/Library/Caches/pip/wheels/68/f8/29/b53346a112a07d30a5a84d53f19aeadaa1a474897c0423af91\n",
      "  Building wheel for toolz (setup.py) ... \u001b[?25ldone\n",
      "\u001b[?25h  Stored in directory: /Users/panelson/Library/Caches/pip/wheels/f4/0c/f6/ce6b2d1aa459ee97cc3c0f82236302bd62d89c86c700219463\n",
      "Successfully built networkx toolz\n",
      "Installing collected packages: cloudpickle, networkx, pillow, toolz, dask, PyWavelets, scipy, scikit-image\n",
      "Successfully installed PyWavelets-1.0.1 cloudpickle-0.8.0 dask-1.1.1 networkx-2.2 pillow-5.4.1 scikit-image-0.14.2 scipy-1.2.1 toolz-0.9.0\n",
      "\u001b[33mYou are using pip version 19.0.1, however version 19.0.3 is available.\n",
      "You should consider upgrading via the 'pip install --upgrade pip' command.\u001b[0m\n"
     ]
    }
   ],
   "source": [
    "! pip install scikit-image"
   ]
  },
  {
   "cell_type": "code",
   "execution_count": 9,
   "metadata": {
    "slideshow": {
     "slide_type": "skip"
    }
   },
   "outputs": [
    {
     "name": "stdout",
     "output_type": "stream",
     "text": [
      "\u001b[33mDEPRECATION: Python 2.7 will reach the end of its life on January 1st, 2020. Please upgrade your Python as Python 2.7 won't be maintained after that date. A future version of pip will drop support for Python 2.7.\u001b[0m\n",
      "Collecting RISE\n",
      "\u001b[?25l  Downloading https://files.pythonhosted.org/packages/8a/d6/0d5f899448a5d1af93660d2ba37aa64f44f1f8f0a9e51790260a6b9c518b/rise-5.4.1-py2.py3-none-any.whl (1.8MB)\n",
      "\u001b[K    100% |████████████████████████████████| 1.8MB 4.3MB/s ta 0:00:011\n",
      "\u001b[?25hRequirement already satisfied: notebook>=5.5.0 in /Users/panelson/.venv/py27/lib/python2.7/site-packages (from RISE) (5.7.4)\n",
      "Requirement already satisfied: jupyter-client>=5.2.0 in /Users/panelson/.venv/py27/lib/python2.7/site-packages (from notebook>=5.5.0->RISE) (5.2.4)\n",
      "Requirement already satisfied: ipython-genutils in /Users/panelson/.venv/py27/lib/python2.7/site-packages (from notebook>=5.5.0->RISE) (0.2.0)\n",
      "Requirement already satisfied: nbconvert in /Users/panelson/.venv/py27/lib/python2.7/site-packages (from notebook>=5.5.0->RISE) (5.4.0)\n",
      "Requirement already satisfied: terminado>=0.8.1 in /Users/panelson/.venv/py27/lib/python2.7/site-packages (from notebook>=5.5.0->RISE) (0.8.1)\n",
      "Requirement already satisfied: nbformat in /Users/panelson/.venv/py27/lib/python2.7/site-packages (from notebook>=5.5.0->RISE) (4.4.0)\n",
      "Requirement already satisfied: pyzmq>=17 in /Users/panelson/.venv/py27/lib/python2.7/site-packages (from notebook>=5.5.0->RISE) (17.1.2)\n",
      "Requirement already satisfied: jinja2 in /Users/panelson/.venv/py27/lib/python2.7/site-packages (from notebook>=5.5.0->RISE) (2.10)\n",
      "Requirement already satisfied: Send2Trash in /Users/panelson/.venv/py27/lib/python2.7/site-packages (from notebook>=5.5.0->RISE) (1.5.0)\n",
      "Requirement already satisfied: tornado>=4 in /Users/panelson/.venv/py27/lib/python2.7/site-packages (from notebook>=5.5.0->RISE) (5.1.1)\n",
      "Requirement already satisfied: ipaddress; python_version == \"2.7\" in /Users/panelson/.venv/py27/lib/python2.7/site-packages (from notebook>=5.5.0->RISE) (1.0.22)\n",
      "Requirement already satisfied: prometheus-client in /Users/panelson/.venv/py27/lib/python2.7/site-packages (from notebook>=5.5.0->RISE) (0.5.0)\n",
      "Requirement already satisfied: jupyter-core>=4.4.0 in /Users/panelson/.venv/py27/lib/python2.7/site-packages (from notebook>=5.5.0->RISE) (4.4.0)\n",
      "Requirement already satisfied: traitlets>=4.2.1 in /Users/panelson/.venv/py27/lib/python2.7/site-packages (from notebook>=5.5.0->RISE) (4.3.2)\n",
      "Requirement already satisfied: ipykernel in /Users/panelson/.venv/py27/lib/python2.7/site-packages (from notebook>=5.5.0->RISE) (4.10.0)\n",
      "Requirement already satisfied: python-dateutil>=2.1 in /Users/panelson/.venv/py27/lib/python2.7/site-packages (from jupyter-client>=5.2.0->notebook>=5.5.0->RISE) (2.8.0)\n",
      "Requirement already satisfied: entrypoints>=0.2.2 in /Users/panelson/.venv/py27/lib/python2.7/site-packages (from nbconvert->notebook>=5.5.0->RISE) (0.3)\n",
      "Requirement already satisfied: bleach in /Users/panelson/.venv/py27/lib/python2.7/site-packages (from nbconvert->notebook>=5.5.0->RISE) (3.1.0)\n",
      "Requirement already satisfied: pygments in /Users/panelson/.venv/py27/lib/python2.7/site-packages (from nbconvert->notebook>=5.5.0->RISE) (2.3.1)\n",
      "Requirement already satisfied: pandocfilters>=1.4.1 in /Users/panelson/.venv/py27/lib/python2.7/site-packages (from nbconvert->notebook>=5.5.0->RISE) (1.4.2)\n",
      "Requirement already satisfied: defusedxml in /Users/panelson/.venv/py27/lib/python2.7/site-packages (from nbconvert->notebook>=5.5.0->RISE) (0.5.0)\n",
      "Requirement already satisfied: testpath in /Users/panelson/.venv/py27/lib/python2.7/site-packages (from nbconvert->notebook>=5.5.0->RISE) (0.4.2)\n",
      "Requirement already satisfied: mistune>=0.8.1 in /Users/panelson/.venv/py27/lib/python2.7/site-packages (from nbconvert->notebook>=5.5.0->RISE) (0.8.4)\n",
      "Requirement already satisfied: ptyprocess; os_name != \"nt\" in /Users/panelson/.venv/py27/lib/python2.7/site-packages (from terminado>=0.8.1->notebook>=5.5.0->RISE) (0.6.0)\n",
      "Requirement already satisfied: jsonschema!=2.5.0,>=2.4 in /Users/panelson/.venv/py27/lib/python2.7/site-packages (from nbformat->notebook>=5.5.0->RISE) (2.6.0)\n",
      "Requirement already satisfied: MarkupSafe>=0.23 in /Users/panelson/.venv/py27/lib/python2.7/site-packages (from jinja2->notebook>=5.5.0->RISE) (1.1.0)\n",
      "Requirement already satisfied: futures in /Users/panelson/.venv/py27/lib/python2.7/site-packages (from tornado>=4->notebook>=5.5.0->RISE) (3.2.0)\n",
      "Requirement already satisfied: singledispatch in /Users/panelson/.venv/py27/lib/python2.7/site-packages (from tornado>=4->notebook>=5.5.0->RISE) (3.4.0.3)\n",
      "Requirement already satisfied: backports-abc>=0.4 in /Users/panelson/.venv/py27/lib/python2.7/site-packages (from tornado>=4->notebook>=5.5.0->RISE) (0.5)\n",
      "Requirement already satisfied: six in /Users/panelson/.venv/py27/lib/python2.7/site-packages (from traitlets>=4.2.1->notebook>=5.5.0->RISE) (1.12.0)\n",
      "Requirement already satisfied: enum34; python_version == \"2.7\" in /Users/panelson/.venv/py27/lib/python2.7/site-packages (from traitlets>=4.2.1->notebook>=5.5.0->RISE) (1.1.6)\n",
      "Requirement already satisfied: decorator in /Users/panelson/.venv/py27/lib/python2.7/site-packages (from traitlets>=4.2.1->notebook>=5.5.0->RISE) (4.3.2)\n",
      "Requirement already satisfied: ipython>=4.0.0 in /Users/panelson/.venv/py27/lib/python2.7/site-packages (from ipykernel->notebook>=5.5.0->RISE) (5.8.0)\n",
      "Requirement already satisfied: configparser>=3.5; python_version == \"2.7\" in /Users/panelson/.venv/py27/lib/python2.7/site-packages (from entrypoints>=0.2.2->nbconvert->notebook>=5.5.0->RISE) (3.7.1)\n",
      "Requirement already satisfied: webencodings in /Users/panelson/.venv/py27/lib/python2.7/site-packages (from bleach->nbconvert->notebook>=5.5.0->RISE) (0.5.1)\n",
      "Requirement already satisfied: functools32; python_version == \"2.7\" in /Users/panelson/.venv/py27/lib/python2.7/site-packages (from jsonschema!=2.5.0,>=2.4->nbformat->notebook>=5.5.0->RISE) (3.2.3.post2)\n",
      "Requirement already satisfied: simplegeneric>0.8 in /Users/panelson/.venv/py27/lib/python2.7/site-packages (from ipython>=4.0.0->ipykernel->notebook>=5.5.0->RISE) (0.8.1)\n",
      "Requirement already satisfied: backports.shutil-get-terminal-size; python_version == \"2.7\" in /Users/panelson/.venv/py27/lib/python2.7/site-packages (from ipython>=4.0.0->ipykernel->notebook>=5.5.0->RISE) (1.0.0)\n",
      "Requirement already satisfied: pexpect; sys_platform != \"win32\" in /Users/panelson/.venv/py27/lib/python2.7/site-packages (from ipython>=4.0.0->ipykernel->notebook>=5.5.0->RISE) (4.6.0)\n",
      "Requirement already satisfied: prompt-toolkit<2.0.0,>=1.0.4 in /Users/panelson/.venv/py27/lib/python2.7/site-packages (from ipython>=4.0.0->ipykernel->notebook>=5.5.0->RISE) (1.0.15)\n",
      "Requirement already satisfied: setuptools>=18.5 in /Users/panelson/.venv/py27/lib/python2.7/site-packages (from ipython>=4.0.0->ipykernel->notebook>=5.5.0->RISE) (40.8.0)\n",
      "Requirement already satisfied: pickleshare in /Users/panelson/.venv/py27/lib/python2.7/site-packages (from ipython>=4.0.0->ipykernel->notebook>=5.5.0->RISE) (0.7.5)\n",
      "Requirement already satisfied: appnope; sys_platform == \"darwin\" in /Users/panelson/.venv/py27/lib/python2.7/site-packages (from ipython>=4.0.0->ipykernel->notebook>=5.5.0->RISE) (0.1.0)\n",
      "Requirement already satisfied: pathlib2; python_version == \"2.7\" or python_version == \"3.3\" in /Users/panelson/.venv/py27/lib/python2.7/site-packages (from ipython>=4.0.0->ipykernel->notebook>=5.5.0->RISE) (2.3.3)\n",
      "Requirement already satisfied: wcwidth in /Users/panelson/.venv/py27/lib/python2.7/site-packages (from prompt-toolkit<2.0.0,>=1.0.4->ipython>=4.0.0->ipykernel->notebook>=5.5.0->RISE) (0.1.7)\n",
      "Requirement already satisfied: scandir; python_version < \"3.5\" in /Users/panelson/.venv/py27/lib/python2.7/site-packages (from pathlib2; python_version == \"2.7\" or python_version == \"3.3\"->ipython>=4.0.0->ipykernel->notebook>=5.5.0->RISE) (1.9.0)\n",
      "Installing collected packages: RISE\n",
      "Successfully installed RISE-5.4.1\n",
      "\u001b[33mYou are using pip version 19.0.1, however version 19.0.3 is available.\n",
      "You should consider upgrading via the 'pip install --upgrade pip' command.\u001b[0m\n"
     ]
    }
   ],
   "source": [
    "! pip install RISE"
   ]
  },
  {
   "cell_type": "code",
   "execution_count": 10,
   "metadata": {
    "slideshow": {
     "slide_type": "skip"
    }
   },
   "outputs": [
    {
     "name": "stdout",
     "output_type": "stream",
     "text": [
      "Could not figure out RISE version - using 0.0.0 (package.json not found)\n",
      "Installing /Users/panelson/.venv/py27/lib/python2.7/site-packages/rise/static -> rise\n",
      "Copying: /Users/panelson/.venv/py27/lib/python2.7/site-packages/rise/static/rise.png -> /Users/panelson/.venv/py27/share/jupyter/nbextensions/rise/rise.png\n",
      "Copying: /Users/panelson/.venv/py27/lib/python2.7/site-packages/rise/static/main.css -> /Users/panelson/.venv/py27/share/jupyter/nbextensions/rise/main.css\n",
      "Copying: /Users/panelson/.venv/py27/lib/python2.7/site-packages/rise/static/rise.yaml -> /Users/panelson/.venv/py27/share/jupyter/nbextensions/rise/rise.yaml\n",
      "Copying: /Users/panelson/.venv/py27/lib/python2.7/site-packages/rise/static/README.md -> /Users/panelson/.venv/py27/share/jupyter/nbextensions/rise/README.md\n",
      "Out of date: /Users/panelson/.venv/py27/share/jupyter/nbextensions/rise/main.js\n",
      "Copying: /Users/panelson/.venv/py27/lib/python2.7/site-packages/rise/static/main.js -> /Users/panelson/.venv/py27/share/jupyter/nbextensions/rise/main.js\n",
      "Making directory: /Users/panelson/.venv/py27/share/jupyter/nbextensions/rise/notes_rise\n",
      "Copying: /Users/panelson/.venv/py27/lib/python2.7/site-packages/rise/static/notes_rise/notes.js -> /Users/panelson/.venv/py27/share/jupyter/nbextensions/rise/notes_rise/notes.js\n",
      "Copying: /Users/panelson/.venv/py27/lib/python2.7/site-packages/rise/static/notes_rise/index.js -> /Users/panelson/.venv/py27/share/jupyter/nbextensions/rise/notes_rise/index.js\n",
      "Copying: /Users/panelson/.venv/py27/lib/python2.7/site-packages/rise/static/notes_rise/notes.html -> /Users/panelson/.venv/py27/share/jupyter/nbextensions/rise/notes_rise/notes.html\n",
      "Copying: /Users/panelson/.venv/py27/lib/python2.7/site-packages/rise/static/notes_rise/package.json -> /Users/panelson/.venv/py27/share/jupyter/nbextensions/rise/notes_rise/package.json\n",
      "Making directory: /Users/panelson/.venv/py27/share/jupyter/nbextensions/rise/reveal.js\n",
      "Copying: /Users/panelson/.venv/py27/lib/python2.7/site-packages/rise/static/reveal.js/.npmignore -> /Users/panelson/.venv/py27/share/jupyter/nbextensions/rise/reveal.js/.npmignore\n",
      "Copying: /Users/panelson/.venv/py27/lib/python2.7/site-packages/rise/static/reveal.js/Gruntfile.js -> /Users/panelson/.venv/py27/share/jupyter/nbextensions/rise/reveal.js/Gruntfile.js\n",
      "Copying: /Users/panelson/.venv/py27/lib/python2.7/site-packages/rise/static/reveal.js/index.html -> /Users/panelson/.venv/py27/share/jupyter/nbextensions/rise/reveal.js/index.html\n",
      "Copying: /Users/panelson/.venv/py27/lib/python2.7/site-packages/rise/static/reveal.js/LICENSE -> /Users/panelson/.venv/py27/share/jupyter/nbextensions/rise/reveal.js/LICENSE\n",
      "Copying: /Users/panelson/.venv/py27/lib/python2.7/site-packages/rise/static/reveal.js/bower.json -> /Users/panelson/.venv/py27/share/jupyter/nbextensions/rise/reveal.js/bower.json\n",
      "Copying: /Users/panelson/.venv/py27/lib/python2.7/site-packages/rise/static/reveal.js/README.md -> /Users/panelson/.venv/py27/share/jupyter/nbextensions/rise/reveal.js/README.md\n",
      "Copying: /Users/panelson/.venv/py27/lib/python2.7/site-packages/rise/static/reveal.js/package.json -> /Users/panelson/.venv/py27/share/jupyter/nbextensions/rise/reveal.js/package.json\n",
      "Copying: /Users/panelson/.venv/py27/lib/python2.7/site-packages/rise/static/reveal.js/CONTRIBUTING.md -> /Users/panelson/.venv/py27/share/jupyter/nbextensions/rise/reveal.js/CONTRIBUTING.md\n",
      "Copying: /Users/panelson/.venv/py27/lib/python2.7/site-packages/rise/static/reveal.js/demo.html -> /Users/panelson/.venv/py27/share/jupyter/nbextensions/rise/reveal.js/demo.html\n",
      "Copying: /Users/panelson/.venv/py27/lib/python2.7/site-packages/rise/static/reveal.js/.travis.yml -> /Users/panelson/.venv/py27/share/jupyter/nbextensions/rise/reveal.js/.travis.yml\n",
      "Making directory: /Users/panelson/.venv/py27/share/jupyter/nbextensions/rise/reveal.js/test\n",
      "Copying: /Users/panelson/.venv/py27/lib/python2.7/site-packages/rise/static/reveal.js/test/test-markdown-options.js -> /Users/panelson/.venv/py27/share/jupyter/nbextensions/rise/reveal.js/test/test-markdown-options.js\n",
      "Copying: /Users/panelson/.venv/py27/lib/python2.7/site-packages/rise/static/reveal.js/test/test-markdown-external.js -> /Users/panelson/.venv/py27/share/jupyter/nbextensions/rise/reveal.js/test/test-markdown-external.js\n",
      "Copying: /Users/panelson/.venv/py27/lib/python2.7/site-packages/rise/static/reveal.js/test/test.js -> /Users/panelson/.venv/py27/share/jupyter/nbextensions/rise/reveal.js/test/test.js\n",
      "Copying: /Users/panelson/.venv/py27/lib/python2.7/site-packages/rise/static/reveal.js/test/test-markdown-element-attributes.js -> /Users/panelson/.venv/py27/share/jupyter/nbextensions/rise/reveal.js/test/test-markdown-element-attributes.js\n",
      "Copying: /Users/panelson/.venv/py27/lib/python2.7/site-packages/rise/static/reveal.js/test/test-markdown.html -> /Users/panelson/.venv/py27/share/jupyter/nbextensions/rise/reveal.js/test/test-markdown.html\n",
      "Copying: /Users/panelson/.venv/py27/lib/python2.7/site-packages/rise/static/reveal.js/test/qunit-1.12.0.css -> /Users/panelson/.venv/py27/share/jupyter/nbextensions/rise/reveal.js/test/qunit-1.12.0.css\n",
      "Copying: /Users/panelson/.venv/py27/lib/python2.7/site-packages/rise/static/reveal.js/test/qunit-1.12.0.js -> /Users/panelson/.venv/py27/share/jupyter/nbextensions/rise/reveal.js/test/qunit-1.12.0.js\n",
      "Copying: /Users/panelson/.venv/py27/lib/python2.7/site-packages/rise/static/reveal.js/test/test-markdown.js -> /Users/panelson/.venv/py27/share/jupyter/nbextensions/rise/reveal.js/test/test-markdown.js\n",
      "Copying: /Users/panelson/.venv/py27/lib/python2.7/site-packages/rise/static/reveal.js/test/test-pdf.html -> /Users/panelson/.venv/py27/share/jupyter/nbextensions/rise/reveal.js/test/test-pdf.html\n",
      "Copying: /Users/panelson/.venv/py27/lib/python2.7/site-packages/rise/static/reveal.js/test/test-markdown-slide-attributes.js -> /Users/panelson/.venv/py27/share/jupyter/nbextensions/rise/reveal.js/test/test-markdown-slide-attributes.js\n",
      "Copying: /Users/panelson/.venv/py27/lib/python2.7/site-packages/rise/static/reveal.js/test/test-markdown-options.html -> /Users/panelson/.venv/py27/share/jupyter/nbextensions/rise/reveal.js/test/test-markdown-options.html\n",
      "Copying: /Users/panelson/.venv/py27/lib/python2.7/site-packages/rise/static/reveal.js/test/simple.md -> /Users/panelson/.venv/py27/share/jupyter/nbextensions/rise/reveal.js/test/simple.md\n",
      "Copying: /Users/panelson/.venv/py27/lib/python2.7/site-packages/rise/static/reveal.js/test/test-markdown-slide-attributes.html -> /Users/panelson/.venv/py27/share/jupyter/nbextensions/rise/reveal.js/test/test-markdown-slide-attributes.html\n",
      "Copying: /Users/panelson/.venv/py27/lib/python2.7/site-packages/rise/static/reveal.js/test/test-markdown-element-attributes.html -> /Users/panelson/.venv/py27/share/jupyter/nbextensions/rise/reveal.js/test/test-markdown-element-attributes.html\n",
      "Copying: /Users/panelson/.venv/py27/lib/python2.7/site-packages/rise/static/reveal.js/test/test.html -> /Users/panelson/.venv/py27/share/jupyter/nbextensions/rise/reveal.js/test/test.html\n",
      "Copying: /Users/panelson/.venv/py27/lib/python2.7/site-packages/rise/static/reveal.js/test/test-pdf.js -> /Users/panelson/.venv/py27/share/jupyter/nbextensions/rise/reveal.js/test/test-pdf.js\n",
      "Copying: /Users/panelson/.venv/py27/lib/python2.7/site-packages/rise/static/reveal.js/test/test-markdown-external.html -> /Users/panelson/.venv/py27/share/jupyter/nbextensions/rise/reveal.js/test/test-markdown-external.html\n",
      "Making directory: /Users/panelson/.venv/py27/share/jupyter/nbextensions/rise/reveal.js/test/examples\n",
      "Copying: /Users/panelson/.venv/py27/lib/python2.7/site-packages/rise/static/reveal.js/test/examples/slide-backgrounds.html -> /Users/panelson/.venv/py27/share/jupyter/nbextensions/rise/reveal.js/test/examples/slide-backgrounds.html\n",
      "Copying: /Users/panelson/.venv/py27/lib/python2.7/site-packages/rise/static/reveal.js/test/examples/embedded-media.html -> /Users/panelson/.venv/py27/share/jupyter/nbextensions/rise/reveal.js/test/examples/embedded-media.html\n",
      "Copying: /Users/panelson/.venv/py27/lib/python2.7/site-packages/rise/static/reveal.js/test/examples/barebones.html -> /Users/panelson/.venv/py27/share/jupyter/nbextensions/rise/reveal.js/test/examples/barebones.html\n",
      "Copying: /Users/panelson/.venv/py27/lib/python2.7/site-packages/rise/static/reveal.js/test/examples/slide-transitions.html -> /Users/panelson/.venv/py27/share/jupyter/nbextensions/rise/reveal.js/test/examples/slide-transitions.html\n",
      "Copying: /Users/panelson/.venv/py27/lib/python2.7/site-packages/rise/static/reveal.js/test/examples/math.html -> /Users/panelson/.venv/py27/share/jupyter/nbextensions/rise/reveal.js/test/examples/math.html\n",
      "Making directory: /Users/panelson/.venv/py27/share/jupyter/nbextensions/rise/reveal.js/test/examples/assets\n",
      "Copying: /Users/panelson/.venv/py27/lib/python2.7/site-packages/rise/static/reveal.js/test/examples/assets/image1.png -> /Users/panelson/.venv/py27/share/jupyter/nbextensions/rise/reveal.js/test/examples/assets/image1.png\n",
      "Copying: /Users/panelson/.venv/py27/lib/python2.7/site-packages/rise/static/reveal.js/test/examples/assets/image2.png -> /Users/panelson/.venv/py27/share/jupyter/nbextensions/rise/reveal.js/test/examples/assets/image2.png\n",
      "Making directory: /Users/panelson/.venv/py27/share/jupyter/nbextensions/rise/reveal.js/css\n",
      "Copying: /Users/panelson/.venv/py27/lib/python2.7/site-packages/rise/static/reveal.js/css/reveal.css.upstream -> /Users/panelson/.venv/py27/share/jupyter/nbextensions/rise/reveal.js/css/reveal.css.upstream\n",
      "Copying: /Users/panelson/.venv/py27/lib/python2.7/site-packages/rise/static/reveal.js/css/reveal.css -> /Users/panelson/.venv/py27/share/jupyter/nbextensions/rise/reveal.js/css/reveal.css\n",
      "Copying: /Users/panelson/.venv/py27/lib/python2.7/site-packages/rise/static/reveal.js/css/reveal.scss -> /Users/panelson/.venv/py27/share/jupyter/nbextensions/rise/reveal.js/css/reveal.scss\n",
      "Making directory: /Users/panelson/.venv/py27/share/jupyter/nbextensions/rise/reveal.js/css/print\n",
      "Copying: /Users/panelson/.venv/py27/lib/python2.7/site-packages/rise/static/reveal.js/css/print/paper.css -> /Users/panelson/.venv/py27/share/jupyter/nbextensions/rise/reveal.js/css/print/paper.css\n",
      "Copying: /Users/panelson/.venv/py27/lib/python2.7/site-packages/rise/static/reveal.js/css/print/pdf.css -> /Users/panelson/.venv/py27/share/jupyter/nbextensions/rise/reveal.js/css/print/pdf.css\n",
      "Making directory: /Users/panelson/.venv/py27/share/jupyter/nbextensions/rise/reveal.js/css/theme\n",
      "Copying: /Users/panelson/.venv/py27/lib/python2.7/site-packages/rise/static/reveal.js/css/theme/black.css -> /Users/panelson/.venv/py27/share/jupyter/nbextensions/rise/reveal.js/css/theme/black.css\n",
      "Copying: /Users/panelson/.venv/py27/lib/python2.7/site-packages/rise/static/reveal.js/css/theme/blood.css -> /Users/panelson/.venv/py27/share/jupyter/nbextensions/rise/reveal.js/css/theme/blood.css\n",
      "Copying: /Users/panelson/.venv/py27/lib/python2.7/site-packages/rise/static/reveal.js/css/theme/beige.css -> /Users/panelson/.venv/py27/share/jupyter/nbextensions/rise/reveal.js/css/theme/beige.css\n",
      "Copying: /Users/panelson/.venv/py27/lib/python2.7/site-packages/rise/static/reveal.js/css/theme/serif.css -> /Users/panelson/.venv/py27/share/jupyter/nbextensions/rise/reveal.js/css/theme/serif.css\n",
      "Copying: /Users/panelson/.venv/py27/lib/python2.7/site-packages/rise/static/reveal.js/css/theme/README.md -> /Users/panelson/.venv/py27/share/jupyter/nbextensions/rise/reveal.js/css/theme/README.md\n",
      "Copying: /Users/panelson/.venv/py27/lib/python2.7/site-packages/rise/static/reveal.js/css/theme/night.css -> /Users/panelson/.venv/py27/share/jupyter/nbextensions/rise/reveal.js/css/theme/night.css\n",
      "Copying: /Users/panelson/.venv/py27/lib/python2.7/site-packages/rise/static/reveal.js/css/theme/white.css -> /Users/panelson/.venv/py27/share/jupyter/nbextensions/rise/reveal.js/css/theme/white.css\n",
      "Copying: /Users/panelson/.venv/py27/lib/python2.7/site-packages/rise/static/reveal.js/css/theme/solarized.css -> /Users/panelson/.venv/py27/share/jupyter/nbextensions/rise/reveal.js/css/theme/solarized.css\n",
      "Copying: /Users/panelson/.venv/py27/lib/python2.7/site-packages/rise/static/reveal.js/css/theme/moon.css -> /Users/panelson/.venv/py27/share/jupyter/nbextensions/rise/reveal.js/css/theme/moon.css\n",
      "Copying: /Users/panelson/.venv/py27/lib/python2.7/site-packages/rise/static/reveal.js/css/theme/simple.css -> /Users/panelson/.venv/py27/share/jupyter/nbextensions/rise/reveal.js/css/theme/simple.css\n",
      "Copying: /Users/panelson/.venv/py27/lib/python2.7/site-packages/rise/static/reveal.js/css/theme/league.css -> /Users/panelson/.venv/py27/share/jupyter/nbextensions/rise/reveal.js/css/theme/league.css\n",
      "Copying: /Users/panelson/.venv/py27/lib/python2.7/site-packages/rise/static/reveal.js/css/theme/sky.css -> /Users/panelson/.venv/py27/share/jupyter/nbextensions/rise/reveal.js/css/theme/sky.css\n",
      "Making directory: /Users/panelson/.venv/py27/share/jupyter/nbextensions/rise/reveal.js/css/theme/source\n",
      "Copying: /Users/panelson/.venv/py27/lib/python2.7/site-packages/rise/static/reveal.js/css/theme/source/sky.scss -> /Users/panelson/.venv/py27/share/jupyter/nbextensions/rise/reveal.js/css/theme/source/sky.scss\n",
      "Copying: /Users/panelson/.venv/py27/lib/python2.7/site-packages/rise/static/reveal.js/css/theme/source/serif.scss -> /Users/panelson/.venv/py27/share/jupyter/nbextensions/rise/reveal.js/css/theme/source/serif.scss\n",
      "Copying: /Users/panelson/.venv/py27/lib/python2.7/site-packages/rise/static/reveal.js/css/theme/source/solarized.scss -> /Users/panelson/.venv/py27/share/jupyter/nbextensions/rise/reveal.js/css/theme/source/solarized.scss\n",
      "Copying: /Users/panelson/.venv/py27/lib/python2.7/site-packages/rise/static/reveal.js/css/theme/source/white.scss -> /Users/panelson/.venv/py27/share/jupyter/nbextensions/rise/reveal.js/css/theme/source/white.scss\n",
      "Copying: /Users/panelson/.venv/py27/lib/python2.7/site-packages/rise/static/reveal.js/css/theme/source/beige.scss -> /Users/panelson/.venv/py27/share/jupyter/nbextensions/rise/reveal.js/css/theme/source/beige.scss\n",
      "Copying: /Users/panelson/.venv/py27/lib/python2.7/site-packages/rise/static/reveal.js/css/theme/source/moon.scss -> /Users/panelson/.venv/py27/share/jupyter/nbextensions/rise/reveal.js/css/theme/source/moon.scss\n",
      "Copying: /Users/panelson/.venv/py27/lib/python2.7/site-packages/rise/static/reveal.js/css/theme/source/league.scss -> /Users/panelson/.venv/py27/share/jupyter/nbextensions/rise/reveal.js/css/theme/source/league.scss\n",
      "Copying: /Users/panelson/.venv/py27/lib/python2.7/site-packages/rise/static/reveal.js/css/theme/source/blood.scss -> /Users/panelson/.venv/py27/share/jupyter/nbextensions/rise/reveal.js/css/theme/source/blood.scss\n",
      "Copying: /Users/panelson/.venv/py27/lib/python2.7/site-packages/rise/static/reveal.js/css/theme/source/simple.scss -> /Users/panelson/.venv/py27/share/jupyter/nbextensions/rise/reveal.js/css/theme/source/simple.scss\n",
      "Copying: /Users/panelson/.venv/py27/lib/python2.7/site-packages/rise/static/reveal.js/css/theme/source/black.scss -> /Users/panelson/.venv/py27/share/jupyter/nbextensions/rise/reveal.js/css/theme/source/black.scss\n",
      "Copying: /Users/panelson/.venv/py27/lib/python2.7/site-packages/rise/static/reveal.js/css/theme/source/night.scss -> /Users/panelson/.venv/py27/share/jupyter/nbextensions/rise/reveal.js/css/theme/source/night.scss\n",
      "Making directory: /Users/panelson/.venv/py27/share/jupyter/nbextensions/rise/reveal.js/css/theme/template\n",
      "Copying: /Users/panelson/.venv/py27/lib/python2.7/site-packages/rise/static/reveal.js/css/theme/template/mixins.scss -> /Users/panelson/.venv/py27/share/jupyter/nbextensions/rise/reveal.js/css/theme/template/mixins.scss\n",
      "Copying: /Users/panelson/.venv/py27/lib/python2.7/site-packages/rise/static/reveal.js/css/theme/template/theme.scss -> /Users/panelson/.venv/py27/share/jupyter/nbextensions/rise/reveal.js/css/theme/template/theme.scss\n",
      "Copying: /Users/panelson/.venv/py27/lib/python2.7/site-packages/rise/static/reveal.js/css/theme/template/settings.scss -> /Users/panelson/.venv/py27/share/jupyter/nbextensions/rise/reveal.js/css/theme/template/settings.scss\n",
      "Making directory: /Users/panelson/.venv/py27/share/jupyter/nbextensions/rise/reveal.js/js\n",
      "Copying: /Users/panelson/.venv/py27/lib/python2.7/site-packages/rise/static/reveal.js/js/reveal.js -> /Users/panelson/.venv/py27/share/jupyter/nbextensions/rise/reveal.js/js/reveal.js\n",
      "Making directory: /Users/panelson/.venv/py27/share/jupyter/nbextensions/rise/reveal.js/plugin\n",
      "Making directory: /Users/panelson/.venv/py27/share/jupyter/nbextensions/rise/reveal.js/plugin/notes-server\n",
      "Copying: /Users/panelson/.venv/py27/lib/python2.7/site-packages/rise/static/reveal.js/plugin/notes-server/client.js -> /Users/panelson/.venv/py27/share/jupyter/nbextensions/rise/reveal.js/plugin/notes-server/client.js\n",
      "Copying: /Users/panelson/.venv/py27/lib/python2.7/site-packages/rise/static/reveal.js/plugin/notes-server/index.js -> /Users/panelson/.venv/py27/share/jupyter/nbextensions/rise/reveal.js/plugin/notes-server/index.js\n",
      "Copying: /Users/panelson/.venv/py27/lib/python2.7/site-packages/rise/static/reveal.js/plugin/notes-server/notes.html -> /Users/panelson/.venv/py27/share/jupyter/nbextensions/rise/reveal.js/plugin/notes-server/notes.html\n",
      "Making directory: /Users/panelson/.venv/py27/share/jupyter/nbextensions/rise/reveal.js/plugin/zoom-js\n",
      "Copying: /Users/panelson/.venv/py27/lib/python2.7/site-packages/rise/static/reveal.js/plugin/zoom-js/zoom.js -> /Users/panelson/.venv/py27/share/jupyter/nbextensions/rise/reveal.js/plugin/zoom-js/zoom.js\n",
      "Making directory: /Users/panelson/.venv/py27/share/jupyter/nbextensions/rise/reveal.js/plugin/highlight\n",
      "Copying: /Users/panelson/.venv/py27/lib/python2.7/site-packages/rise/static/reveal.js/plugin/highlight/highlight.js -> /Users/panelson/.venv/py27/share/jupyter/nbextensions/rise/reveal.js/plugin/highlight/highlight.js\n",
      "Making directory: /Users/panelson/.venv/py27/share/jupyter/nbextensions/rise/reveal.js/plugin/markdown\n",
      "Copying: /Users/panelson/.venv/py27/lib/python2.7/site-packages/rise/static/reveal.js/plugin/markdown/example.md -> /Users/panelson/.venv/py27/share/jupyter/nbextensions/rise/reveal.js/plugin/markdown/example.md\n",
      "Copying: /Users/panelson/.venv/py27/lib/python2.7/site-packages/rise/static/reveal.js/plugin/markdown/marked.js -> /Users/panelson/.venv/py27/share/jupyter/nbextensions/rise/reveal.js/plugin/markdown/marked.js\n",
      "Copying: /Users/panelson/.venv/py27/lib/python2.7/site-packages/rise/static/reveal.js/plugin/markdown/example.html -> /Users/panelson/.venv/py27/share/jupyter/nbextensions/rise/reveal.js/plugin/markdown/example.html\n",
      "Copying: /Users/panelson/.venv/py27/lib/python2.7/site-packages/rise/static/reveal.js/plugin/markdown/markdown.js -> /Users/panelson/.venv/py27/share/jupyter/nbextensions/rise/reveal.js/plugin/markdown/markdown.js\n",
      "Making directory: /Users/panelson/.venv/py27/share/jupyter/nbextensions/rise/reveal.js/plugin/math\n",
      "Copying: /Users/panelson/.venv/py27/lib/python2.7/site-packages/rise/static/reveal.js/plugin/math/math.js -> /Users/panelson/.venv/py27/share/jupyter/nbextensions/rise/reveal.js/plugin/math/math.js\n",
      "Making directory: /Users/panelson/.venv/py27/share/jupyter/nbextensions/rise/reveal.js/plugin/print-pdf\n",
      "Copying: /Users/panelson/.venv/py27/lib/python2.7/site-packages/rise/static/reveal.js/plugin/print-pdf/print-pdf.js -> /Users/panelson/.venv/py27/share/jupyter/nbextensions/rise/reveal.js/plugin/print-pdf/print-pdf.js\n",
      "Making directory: /Users/panelson/.venv/py27/share/jupyter/nbextensions/rise/reveal.js/plugin/search\n",
      "Copying: /Users/panelson/.venv/py27/lib/python2.7/site-packages/rise/static/reveal.js/plugin/search/search.js -> /Users/panelson/.venv/py27/share/jupyter/nbextensions/rise/reveal.js/plugin/search/search.js\n",
      "Making directory: /Users/panelson/.venv/py27/share/jupyter/nbextensions/rise/reveal.js/plugin/notes\n",
      "Copying: /Users/panelson/.venv/py27/lib/python2.7/site-packages/rise/static/reveal.js/plugin/notes/notes.js -> /Users/panelson/.venv/py27/share/jupyter/nbextensions/rise/reveal.js/plugin/notes/notes.js\n",
      "Copying: /Users/panelson/.venv/py27/lib/python2.7/site-packages/rise/static/reveal.js/plugin/notes/notes.html -> /Users/panelson/.venv/py27/share/jupyter/nbextensions/rise/reveal.js/plugin/notes/notes.html\n",
      "Making directory: /Users/panelson/.venv/py27/share/jupyter/nbextensions/rise/reveal.js/plugin/multiplex\n",
      "Copying: /Users/panelson/.venv/py27/lib/python2.7/site-packages/rise/static/reveal.js/plugin/multiplex/client.js -> /Users/panelson/.venv/py27/share/jupyter/nbextensions/rise/reveal.js/plugin/multiplex/client.js\n",
      "Copying: /Users/panelson/.venv/py27/lib/python2.7/site-packages/rise/static/reveal.js/plugin/multiplex/index.js -> /Users/panelson/.venv/py27/share/jupyter/nbextensions/rise/reveal.js/plugin/multiplex/index.js\n",
      "Copying: /Users/panelson/.venv/py27/lib/python2.7/site-packages/rise/static/reveal.js/plugin/multiplex/package.json -> /Users/panelson/.venv/py27/share/jupyter/nbextensions/rise/reveal.js/plugin/multiplex/package.json\n",
      "Copying: /Users/panelson/.venv/py27/lib/python2.7/site-packages/rise/static/reveal.js/plugin/multiplex/master.js -> /Users/panelson/.venv/py27/share/jupyter/nbextensions/rise/reveal.js/plugin/multiplex/master.js\n",
      "Making directory: /Users/panelson/.venv/py27/share/jupyter/nbextensions/rise/reveal.js/lib\n",
      "Making directory: /Users/panelson/.venv/py27/share/jupyter/nbextensions/rise/reveal.js/lib/css\n",
      "Copying: /Users/panelson/.venv/py27/lib/python2.7/site-packages/rise/static/reveal.js/lib/css/zenburn.css -> /Users/panelson/.venv/py27/share/jupyter/nbextensions/rise/reveal.js/lib/css/zenburn.css\n",
      "Making directory: /Users/panelson/.venv/py27/share/jupyter/nbextensions/rise/reveal.js/lib/js\n",
      "Copying: /Users/panelson/.venv/py27/lib/python2.7/site-packages/rise/static/reveal.js/lib/js/html5shiv.js -> /Users/panelson/.venv/py27/share/jupyter/nbextensions/rise/reveal.js/lib/js/html5shiv.js\n",
      "Copying: /Users/panelson/.venv/py27/lib/python2.7/site-packages/rise/static/reveal.js/lib/js/head.min.js -> /Users/panelson/.venv/py27/share/jupyter/nbextensions/rise/reveal.js/lib/js/head.min.js\n",
      "Copying: /Users/panelson/.venv/py27/lib/python2.7/site-packages/rise/static/reveal.js/lib/js/classList.js -> /Users/panelson/.venv/py27/share/jupyter/nbextensions/rise/reveal.js/lib/js/classList.js\n",
      "Making directory: /Users/panelson/.venv/py27/share/jupyter/nbextensions/rise/reveal.js/lib/font\n",
      "Making directory: /Users/panelson/.venv/py27/share/jupyter/nbextensions/rise/reveal.js/lib/font/source-sans-pro\n",
      "Copying: /Users/panelson/.venv/py27/lib/python2.7/site-packages/rise/static/reveal.js/lib/font/source-sans-pro/source-sans-pro.css -> /Users/panelson/.venv/py27/share/jupyter/nbextensions/rise/reveal.js/lib/font/source-sans-pro/source-sans-pro.css\n",
      "Copying: /Users/panelson/.venv/py27/lib/python2.7/site-packages/rise/static/reveal.js/lib/font/source-sans-pro/source-sans-pro-semibolditalic.eot -> /Users/panelson/.venv/py27/share/jupyter/nbextensions/rise/reveal.js/lib/font/source-sans-pro/source-sans-pro-semibolditalic.eot\n",
      "Copying: /Users/panelson/.venv/py27/lib/python2.7/site-packages/rise/static/reveal.js/lib/font/source-sans-pro/LICENSE -> /Users/panelson/.venv/py27/share/jupyter/nbextensions/rise/reveal.js/lib/font/source-sans-pro/LICENSE\n",
      "Copying: /Users/panelson/.venv/py27/lib/python2.7/site-packages/rise/static/reveal.js/lib/font/source-sans-pro/source-sans-pro-regular.woff -> /Users/panelson/.venv/py27/share/jupyter/nbextensions/rise/reveal.js/lib/font/source-sans-pro/source-sans-pro-regular.woff\n",
      "Copying: /Users/panelson/.venv/py27/lib/python2.7/site-packages/rise/static/reveal.js/lib/font/source-sans-pro/source-sans-pro-semibold.woff -> /Users/panelson/.venv/py27/share/jupyter/nbextensions/rise/reveal.js/lib/font/source-sans-pro/source-sans-pro-semibold.woff\n",
      "Copying: /Users/panelson/.venv/py27/lib/python2.7/site-packages/rise/static/reveal.js/lib/font/source-sans-pro/source-sans-pro-semibolditalic.woff -> /Users/panelson/.venv/py27/share/jupyter/nbextensions/rise/reveal.js/lib/font/source-sans-pro/source-sans-pro-semibolditalic.woff\n",
      "Copying: /Users/panelson/.venv/py27/lib/python2.7/site-packages/rise/static/reveal.js/lib/font/source-sans-pro/source-sans-pro-semibolditalic.ttf -> /Users/panelson/.venv/py27/share/jupyter/nbextensions/rise/reveal.js/lib/font/source-sans-pro/source-sans-pro-semibolditalic.ttf\n",
      "Copying: /Users/panelson/.venv/py27/lib/python2.7/site-packages/rise/static/reveal.js/lib/font/source-sans-pro/source-sans-pro-regular.eot -> /Users/panelson/.venv/py27/share/jupyter/nbextensions/rise/reveal.js/lib/font/source-sans-pro/source-sans-pro-regular.eot\n",
      "Copying: /Users/panelson/.venv/py27/lib/python2.7/site-packages/rise/static/reveal.js/lib/font/source-sans-pro/source-sans-pro-italic.ttf -> /Users/panelson/.venv/py27/share/jupyter/nbextensions/rise/reveal.js/lib/font/source-sans-pro/source-sans-pro-italic.ttf\n",
      "Copying: /Users/panelson/.venv/py27/lib/python2.7/site-packages/rise/static/reveal.js/lib/font/source-sans-pro/source-sans-pro-semibold.ttf -> /Users/panelson/.venv/py27/share/jupyter/nbextensions/rise/reveal.js/lib/font/source-sans-pro/source-sans-pro-semibold.ttf\n",
      "Copying: /Users/panelson/.venv/py27/lib/python2.7/site-packages/rise/static/reveal.js/lib/font/source-sans-pro/source-sans-pro-italic.woff -> /Users/panelson/.venv/py27/share/jupyter/nbextensions/rise/reveal.js/lib/font/source-sans-pro/source-sans-pro-italic.woff\n",
      "Copying: /Users/panelson/.venv/py27/lib/python2.7/site-packages/rise/static/reveal.js/lib/font/source-sans-pro/source-sans-pro-regular.ttf -> /Users/panelson/.venv/py27/share/jupyter/nbextensions/rise/reveal.js/lib/font/source-sans-pro/source-sans-pro-regular.ttf\n",
      "Copying: /Users/panelson/.venv/py27/lib/python2.7/site-packages/rise/static/reveal.js/lib/font/source-sans-pro/source-sans-pro-italic.eot -> /Users/panelson/.venv/py27/share/jupyter/nbextensions/rise/reveal.js/lib/font/source-sans-pro/source-sans-pro-italic.eot\n",
      "Copying: /Users/panelson/.venv/py27/lib/python2.7/site-packages/rise/static/reveal.js/lib/font/source-sans-pro/source-sans-pro-semibold.eot -> /Users/panelson/.venv/py27/share/jupyter/nbextensions/rise/reveal.js/lib/font/source-sans-pro/source-sans-pro-semibold.eot\n",
      "Making directory: /Users/panelson/.venv/py27/share/jupyter/nbextensions/rise/reveal.js/lib/font/league-gothic\n",
      "Copying: /Users/panelson/.venv/py27/lib/python2.7/site-packages/rise/static/reveal.js/lib/font/league-gothic/league-gothic.woff -> /Users/panelson/.venv/py27/share/jupyter/nbextensions/rise/reveal.js/lib/font/league-gothic/league-gothic.woff\n",
      "Copying: /Users/panelson/.venv/py27/lib/python2.7/site-packages/rise/static/reveal.js/lib/font/league-gothic/league-gothic.css -> /Users/panelson/.venv/py27/share/jupyter/nbextensions/rise/reveal.js/lib/font/league-gothic/league-gothic.css\n",
      "Copying: /Users/panelson/.venv/py27/lib/python2.7/site-packages/rise/static/reveal.js/lib/font/league-gothic/LICENSE -> /Users/panelson/.venv/py27/share/jupyter/nbextensions/rise/reveal.js/lib/font/league-gothic/LICENSE\n",
      "Copying: /Users/panelson/.venv/py27/lib/python2.7/site-packages/rise/static/reveal.js/lib/font/league-gothic/league-gothic.ttf -> /Users/panelson/.venv/py27/share/jupyter/nbextensions/rise/reveal.js/lib/font/league-gothic/league-gothic.ttf\n",
      "Copying: /Users/panelson/.venv/py27/lib/python2.7/site-packages/rise/static/reveal.js/lib/font/league-gothic/league-gothic.eot -> /Users/panelson/.venv/py27/share/jupyter/nbextensions/rise/reveal.js/lib/font/league-gothic/league-gothic.eot\n",
      "Making directory: /Users/panelson/.venv/py27/share/jupyter/nbextensions/rise/reveal.js-chalkboard\n",
      "Copying: /Users/panelson/.venv/py27/lib/python2.7/site-packages/rise/static/reveal.js-chalkboard/README.md -> /Users/panelson/.venv/py27/share/jupyter/nbextensions/rise/reveal.js-chalkboard/README.md\n",
      "Copying: /Users/panelson/.venv/py27/lib/python2.7/site-packages/rise/static/reveal.js-chalkboard/chalkboard.js -> /Users/panelson/.venv/py27/share/jupyter/nbextensions/rise/reveal.js-chalkboard/chalkboard.js\n",
      "Copying: /Users/panelson/.venv/py27/lib/python2.7/site-packages/rise/static/reveal.js-chalkboard/package.json -> /Users/panelson/.venv/py27/share/jupyter/nbextensions/rise/reveal.js-chalkboard/package.json\n",
      "Making directory: /Users/panelson/.venv/py27/share/jupyter/nbextensions/rise/reveal.js-chalkboard/img\n"
     ]
    },
    {
     "name": "stdout",
     "output_type": "stream",
     "text": [
      "Copying: /Users/panelson/.venv/py27/lib/python2.7/site-packages/rise/static/reveal.js-chalkboard/img/sponge.png -> /Users/panelson/.venv/py27/share/jupyter/nbextensions/rise/reveal.js-chalkboard/img/sponge.png\r\n",
      "Copying: /Users/panelson/.venv/py27/lib/python2.7/site-packages/rise/static/reveal.js-chalkboard/img/whiteboard.png -> /Users/panelson/.venv/py27/share/jupyter/nbextensions/rise/reveal.js-chalkboard/img/whiteboard.png\r\n",
      "Copying: /Users/panelson/.venv/py27/lib/python2.7/site-packages/rise/static/reveal.js-chalkboard/img/boardmarker.png -> /Users/panelson/.venv/py27/share/jupyter/nbextensions/rise/reveal.js-chalkboard/img/boardmarker.png\r\n",
      "Copying: /Users/panelson/.venv/py27/lib/python2.7/site-packages/rise/static/reveal.js-chalkboard/img/chalk.png -> /Users/panelson/.venv/py27/share/jupyter/nbextensions/rise/reveal.js-chalkboard/img/chalk.png\r\n",
      "Copying: /Users/panelson/.venv/py27/lib/python2.7/site-packages/rise/static/reveal.js-chalkboard/img/blackboard.png -> /Users/panelson/.venv/py27/share/jupyter/nbextensions/rise/reveal.js-chalkboard/img/blackboard.png\r\n",
      "- Validating: \u001b[32mOK\u001b[0m\r\n",
      "\r\n",
      "    To initialize this nbextension in the browser every time the notebook (or other app) loads:\r\n",
      "    \r\n",
      "          jupyter nbextension enable rise --py --sys-prefix\r\n",
      "    \r\n"
     ]
    }
   ],
   "source": [
    "! jupyter-nbextension install rise --py --sys-prefix"
   ]
  },
  {
   "cell_type": "code",
   "execution_count": 3,
   "metadata": {
    "scrolled": true,
    "slideshow": {
     "slide_type": "skip"
    }
   },
   "outputs": [
    {
     "name": "stdout",
     "output_type": "stream",
     "text": [
      "\u001b[33mDEPRECATION: Python 2.7 will reach the end of its life on January 1st, 2020. Please upgrade your Python as Python 2.7 won't be maintained after that date. A future version of pip will drop support for Python 2.7.\u001b[0m\n",
      "Requirement already satisfied: qtconsole in /Users/panelson/.venv/py27/lib/python2.7/site-packages (4.4.3)\n",
      "Requirement already satisfied: pygments in /Users/panelson/.venv/py27/lib/python2.7/site-packages (from qtconsole) (2.3.1)\n",
      "Requirement already satisfied: ipython-genutils in /Users/panelson/.venv/py27/lib/python2.7/site-packages (from qtconsole) (0.2.0)\n",
      "Requirement already satisfied: jupyter-client>=4.1 in /Users/panelson/.venv/py27/lib/python2.7/site-packages (from qtconsole) (5.2.4)\n",
      "Requirement already satisfied: jupyter-core in /Users/panelson/.venv/py27/lib/python2.7/site-packages (from qtconsole) (4.4.0)\n",
      "Requirement already satisfied: ipykernel>=4.1 in /Users/panelson/.venv/py27/lib/python2.7/site-packages (from qtconsole) (4.10.0)\n",
      "Requirement already satisfied: traitlets in /Users/panelson/.venv/py27/lib/python2.7/site-packages (from qtconsole) (4.3.2)\n",
      "Requirement already satisfied: pyzmq>=13 in /Users/panelson/.venv/py27/lib/python2.7/site-packages (from jupyter-client>=4.1->qtconsole) (17.1.2)\n",
      "Requirement already satisfied: python-dateutil>=2.1 in /Users/panelson/.venv/py27/lib/python2.7/site-packages (from jupyter-client>=4.1->qtconsole) (2.8.0)\n",
      "Requirement already satisfied: tornado>=4.1 in /Users/panelson/.venv/py27/lib/python2.7/site-packages (from jupyter-client>=4.1->qtconsole) (5.1.1)\n",
      "Requirement already satisfied: ipython>=4.0.0 in /Users/panelson/.venv/py27/lib/python2.7/site-packages (from ipykernel>=4.1->qtconsole) (5.8.0)\n",
      "Requirement already satisfied: six in /Users/panelson/.venv/py27/lib/python2.7/site-packages (from traitlets->qtconsole) (1.12.0)\n",
      "Requirement already satisfied: enum34; python_version == \"2.7\" in /Users/panelson/.venv/py27/lib/python2.7/site-packages (from traitlets->qtconsole) (1.1.6)\n",
      "Requirement already satisfied: decorator in /Users/panelson/.venv/py27/lib/python2.7/site-packages (from traitlets->qtconsole) (4.3.2)\n",
      "Requirement already satisfied: futures in /Users/panelson/.venv/py27/lib/python2.7/site-packages (from tornado>=4.1->jupyter-client>=4.1->qtconsole) (3.2.0)\n",
      "Requirement already satisfied: singledispatch in /Users/panelson/.venv/py27/lib/python2.7/site-packages (from tornado>=4.1->jupyter-client>=4.1->qtconsole) (3.4.0.3)\n",
      "Requirement already satisfied: backports-abc>=0.4 in /Users/panelson/.venv/py27/lib/python2.7/site-packages (from tornado>=4.1->jupyter-client>=4.1->qtconsole) (0.5)\n",
      "Requirement already satisfied: simplegeneric>0.8 in /Users/panelson/.venv/py27/lib/python2.7/site-packages (from ipython>=4.0.0->ipykernel>=4.1->qtconsole) (0.8.1)\n",
      "Requirement already satisfied: backports.shutil-get-terminal-size; python_version == \"2.7\" in /Users/panelson/.venv/py27/lib/python2.7/site-packages (from ipython>=4.0.0->ipykernel>=4.1->qtconsole) (1.0.0)\n",
      "Requirement already satisfied: pexpect; sys_platform != \"win32\" in /Users/panelson/.venv/py27/lib/python2.7/site-packages (from ipython>=4.0.0->ipykernel>=4.1->qtconsole) (4.6.0)\n",
      "Requirement already satisfied: prompt-toolkit<2.0.0,>=1.0.4 in /Users/panelson/.venv/py27/lib/python2.7/site-packages (from ipython>=4.0.0->ipykernel>=4.1->qtconsole) (1.0.15)\n",
      "Requirement already satisfied: setuptools>=18.5 in /Users/panelson/.venv/py27/lib/python2.7/site-packages (from ipython>=4.0.0->ipykernel>=4.1->qtconsole) (40.8.0)\n",
      "Requirement already satisfied: pickleshare in /Users/panelson/.venv/py27/lib/python2.7/site-packages (from ipython>=4.0.0->ipykernel>=4.1->qtconsole) (0.7.5)\n",
      "Requirement already satisfied: appnope; sys_platform == \"darwin\" in /Users/panelson/.venv/py27/lib/python2.7/site-packages (from ipython>=4.0.0->ipykernel>=4.1->qtconsole) (0.1.0)\n",
      "Requirement already satisfied: pathlib2; python_version == \"2.7\" or python_version == \"3.3\" in /Users/panelson/.venv/py27/lib/python2.7/site-packages (from ipython>=4.0.0->ipykernel>=4.1->qtconsole) (2.3.3)\n",
      "Requirement already satisfied: ptyprocess>=0.5 in /Users/panelson/.venv/py27/lib/python2.7/site-packages (from pexpect; sys_platform != \"win32\"->ipython>=4.0.0->ipykernel>=4.1->qtconsole) (0.6.0)\n",
      "Requirement already satisfied: wcwidth in /Users/panelson/.venv/py27/lib/python2.7/site-packages (from prompt-toolkit<2.0.0,>=1.0.4->ipython>=4.0.0->ipykernel>=4.1->qtconsole) (0.1.7)\n",
      "Requirement already satisfied: scandir; python_version < \"3.5\" in /Users/panelson/.venv/py27/lib/python2.7/site-packages (from pathlib2; python_version == \"2.7\" or python_version == \"3.3\"->ipython>=4.0.0->ipykernel>=4.1->qtconsole) (1.9.0)\n",
      "\u001b[33mYou are using pip version 19.0.1, however version 19.0.3 is available.\n",
      "You should consider upgrading via the 'pip install --upgrade pip' command.\u001b[0m\n"
     ]
    }
   ],
   "source": [
    "! pip install qtconsole"
   ]
  },
  {
   "cell_type": "code",
   "execution_count": 2,
   "metadata": {
    "slideshow": {
     "slide_type": "skip"
    }
   },
   "outputs": [
    {
     "name": "stdout",
     "output_type": "stream",
     "text": [
      "\u001b[33mDEPRECATION: Python 2.7 will reach the end of its life on January 1st, 2020. Please upgrade your Python as Python 2.7 won't be maintained after that date. A future version of pip will drop support for Python 2.7.\u001b[0m\n",
      "Collecting latex\n",
      "  Downloading https://files.pythonhosted.org/packages/e3/f3/c2562ee509faadaaf4f9d5b9491de146c6522ed2843dcecfd4f8e1a72f1d/latex-0.7.0.tar.gz\n",
      "Collecting tempdir (from latex)\n",
      "  Downloading https://files.pythonhosted.org/packages/dd/b2/b931869a9f9ad9fa14deecbcfc28e514b0755f8b904d9fe48864951b1a60/tempdir-0.7.1.tar.gz\n",
      "Collecting data (from latex)\n",
      "  Downloading https://files.pythonhosted.org/packages/ed/e9/623be82fac4250fc614741f5b1ead83d339794f94b19ac8665b6ea12ee05/data-0.4.tar.gz\n",
      "Collecting future (from latex)\n",
      "\u001b[?25l  Downloading https://files.pythonhosted.org/packages/90/52/e20466b85000a181e1e144fd8305caf2cf475e2f9674e797b222f8105f5f/future-0.17.1.tar.gz (829kB)\n",
      "\u001b[K    100% |████████████████████████████████| 829kB 3.7MB/s ta 0:00:011\n",
      "\u001b[?25hCollecting shutilwhich (from latex)\n",
      "  Downloading https://files.pythonhosted.org/packages/66/be/783f181594bb8bcfde174d6cd1e41956b986d0d8d337d535eb2555b92f8d/shutilwhich-1.1.0.tar.gz\n",
      "Requirement already satisfied: six in /Users/panelson/.venv/py27/lib/python2.7/site-packages (from data->latex) (1.12.0)\n",
      "Requirement already satisfied: decorator in /Users/panelson/.venv/py27/lib/python2.7/site-packages (from data->latex) (4.3.2)\n",
      "Collecting funcsigs (from data->latex)\n",
      "  Downloading https://files.pythonhosted.org/packages/69/cb/f5be453359271714c01b9bd06126eaf2e368f1fddfff30818754b5ac2328/funcsigs-1.0.2-py2.py3-none-any.whl\n",
      "Building wheels for collected packages: latex, tempdir, data, future, shutilwhich\n",
      "  Building wheel for latex (setup.py) ... \u001b[?25ldone\n",
      "\u001b[?25h  Stored in directory: /Users/panelson/Library/Caches/pip/wheels/a5/00/74/5aed853dec3fbc45e9c9cf4949f664f1bd8b6f3e6def432019\n",
      "  Building wheel for tempdir (setup.py) ... \u001b[?25ldone\n",
      "\u001b[?25h  Stored in directory: /Users/panelson/Library/Caches/pip/wheels/7b/f2/40/6806964a69dfe3e46eff51b06a9a036af80b933479536fa295\n",
      "  Building wheel for data (setup.py) ... \u001b[?25ldone\n",
      "\u001b[?25h  Stored in directory: /Users/panelson/Library/Caches/pip/wheels/f6/09/e5/5afbc45fb0de471541092c7cd8b48d3483be68b1890955e6b9\n",
      "  Building wheel for future (setup.py) ... \u001b[?25ldone\n",
      "\u001b[?25h  Stored in directory: /Users/panelson/Library/Caches/pip/wheels/0c/61/d2/d6b7317325828fbb39ee6ad559dbe4664d0896da4721bf379e\n",
      "  Building wheel for shutilwhich (setup.py) ... \u001b[?25ldone\n",
      "\u001b[?25h  Stored in directory: /Users/panelson/Library/Caches/pip/wheels/05/ef/eb/27a815601fa45bbb0301dae456f0853700502233b801fe4bb1\n",
      "Successfully built latex tempdir data future shutilwhich\n",
      "Installing collected packages: tempdir, funcsigs, data, future, shutilwhich, latex\n",
      "Successfully installed data-0.4 funcsigs-1.0.2 future-0.17.1 latex-0.7.0 shutilwhich-1.1.0 tempdir-0.7.1\n",
      "\u001b[33mYou are using pip version 19.0.1, however version 19.0.3 is available.\n",
      "You should consider upgrading via the 'pip install --upgrade pip' command.\u001b[0m\n"
     ]
    }
   ],
   "source": [
    "! pip install latex"
   ]
  },
  {
   "cell_type": "code",
   "execution_count": null,
   "metadata": {
    "slideshow": {
     "slide_type": "skip"
    }
   },
   "outputs": [],
   "source": [
    "! brew cask install mactex"
   ]
  },
  {
   "cell_type": "code",
   "execution_count": null,
   "metadata": {
    "slideshow": {
     "slide_type": "skip"
    }
   },
   "outputs": [],
   "source": [
    "!datashader examples"
   ]
  },
  {
   "cell_type": "code",
   "execution_count": null,
   "metadata": {
    "slideshow": {
     "slide_type": "skip"
    }
   },
   "outputs": [],
   "source": [
    "! pip install fastparquet"
   ]
  },
  {
   "cell_type": "code",
   "execution_count": null,
   "metadata": {
    "slideshow": {
     "slide_type": "skip"
    }
   },
   "outputs": [],
   "source": [
    "! brew install snappy"
   ]
  },
  {
   "cell_type": "code",
   "execution_count": 1,
   "metadata": {
    "slideshow": {
     "slide_type": "skip"
    }
   },
   "outputs": [
    {
     "name": "stdout",
     "output_type": "stream",
     "text": [
      "\u001b[33mDEPRECATION: Python 2.7 will reach the end of its life on January 1st, 2020. Please upgrade your Python as Python 2.7 won't be maintained after that date. A future version of pip will drop support for Python 2.7.\u001b[0m\n",
      "Collecting pyarrow\n",
      "\u001b[?25l  Downloading https://files.pythonhosted.org/packages/dd/c5/01be7ddb1453bc5f81918dafd30da8cc3efd6fb485259c11e2e8e28d2bee/pyarrow-0.12.1-cp27-cp27m-macosx_10_6_intel.whl (9.5MB)\n",
      "\u001b[K    100% |████████████████████████████████| 9.5MB 1.5MB/s eta 0:00:01\n",
      "\u001b[?25hRequirement already satisfied: six>=1.0.0 in /Users/panelson/.venv/py27/lib/python2.7/site-packages (from pyarrow) (1.12.0)\n",
      "Requirement already satisfied: futures; python_version < \"3.2\" in /Users/panelson/.venv/py27/lib/python2.7/site-packages (from pyarrow) (3.2.0)\n",
      "Requirement already satisfied: numpy>=1.14 in /Users/panelson/.venv/py27/lib/python2.7/site-packages (from pyarrow) (1.16.1)\n",
      "Installing collected packages: pyarrow\n",
      "Successfully installed pyarrow-0.12.1\n",
      "\u001b[33mYou are using pip version 19.0.1, however version 19.0.3 is available.\n",
      "You should consider upgrading via the 'pip install --upgrade pip' command.\u001b[0m\n"
     ]
    }
   ],
   "source": [
    "! pip install pyarrow"
   ]
  },
  {
   "cell_type": "code",
   "execution_count": null,
   "metadata": {
    "slideshow": {
     "slide_type": "skip"
    }
   },
   "outputs": [],
   "source": [
    "https://mybinder.org/v2/gh/flashashen/jupyter-presentation/master?filepath=jupyter-presentation\n"
   ]
  }
 ],
 "metadata": {
  "kernelspec": {
   "display_name": "Python 2",
   "language": "python",
   "name": "python2"
  },
  "language_info": {
   "codemirror_mode": {
    "name": "ipython",
    "version": 2
   },
   "file_extension": ".py",
   "mimetype": "text/x-python",
   "name": "python",
   "nbconvert_exporter": "python",
   "pygments_lexer": "ipython2",
   "version": "2.7.10"
  },
  "livereveal": {
   "scroll": true,
   "theme": "serif"
  }
 },
 "nbformat": 4,
 "nbformat_minor": 2
}
